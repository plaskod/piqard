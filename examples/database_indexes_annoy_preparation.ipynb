{
 "cells": [
  {
   "cell_type": "markdown",
   "id": "53bab974-e65d-4d09-83a6-d33b4001c0b2",
   "metadata": {},
   "source": [
    "# Tworzenie indeksu za pomocą biblioteki Annoy #\n",
    "W tym notatniku przedstawimy sposób tworzenia indeksu Annoy na przykładzie bazy faktów benchmarku OpenbookQA"
   ]
  },
  {
   "cell_type": "code",
   "execution_count": 1,
   "id": "574f0e50-925e-452c-a83f-49629e092f30",
   "metadata": {},
   "outputs": [],
   "source": [
    "import numpy as np\n",
    "import random\n",
    "from annoy import AnnoyIndex\n",
    "from sentence_transformers import SentenceTransformer"
   ]
  },
  {
   "cell_type": "markdown",
   "id": "49f69ac4-fdb2-4afb-b365-2a57a17314bc",
   "metadata": {},
   "source": [
    "### Wczytanie bazy danych benchmarku OpenbookQA z pliku txt ###\n",
    "Aby wczytać fakty z benchmarka openbook należy pobrać ze strony https://allenai.org/data/open-book-qa plik z bazą danych w formacie txt"
   ]
  },
  {
   "cell_type": "code",
   "execution_count": 2,
   "id": "3bb00d34-a71e-4a45-b8dd-969720eed683",
   "metadata": {},
   "outputs": [
    {
     "data": {
      "text/plain": [
       "['A bee is a pollinating animal',\n",
       " 'A bird is a pollinating animal',\n",
       " 'An electrical conductor is a vehicle for the flow of electricity',\n",
       " 'An example of a change in the Earth is an ocean becoming a wooded area',\n",
       " 'An example of a chemical change is acid breaking down substances']"
      ]
     },
     "execution_count": 2,
     "metadata": {},
     "output_type": "execute_result"
    }
   ],
   "source": [
    "facts_path = \"..\\openbook.txt\"\n",
    "with open(facts_path) as f:\n",
    "    facts = [line[1:-2] for line in f.readlines()]\n",
    "facts[:5]"
   ]
  },
  {
   "cell_type": "markdown",
   "id": "0f512e5e-5056-493a-83c1-e4c35ba63f4b",
   "metadata": {},
   "source": [
    "### Enkodowanie bazy danych ###\n",
    "Za pomocą funkcji SentenceTransformer enkodujęmy bazę danych. Należy pamiętać aby model, którym w systemie/bibliotece będzie enkodować przetwarzane pytanie musi być taki sam jak model który zostanie użyty do enkodowania bazy danych"
   ]
  },
  {
   "cell_type": "code",
   "execution_count": 3,
   "id": "c7397dc5-a83e-4fe9-bfc6-0b6b8d131be2",
   "metadata": {},
   "outputs": [
    {
     "name": "stdout",
     "output_type": "stream",
     "text": [
      "Liczba wymiarów enkodowanej bazy danych: 384\n"
     ]
    }
   ],
   "source": [
    "model_name = 'multi-qa-MiniLM-L6-cos-v1'\n",
    "model = SentenceTransformer(model_name)\n",
    "embeddings = model.encode(facts)\n",
    "\n",
    "print(f\"Liczba wymiarów enkodowanej bazy danych: {embeddings.shape[1]}\")"
   ]
  },
  {
   "cell_type": "markdown",
   "id": "fa9d2984-d21c-41f6-bc8a-0b385ebd030e",
   "metadata": {},
   "source": [
    "### Tworzenie indeksu ###"
   ]
  },
  {
   "cell_type": "code",
   "execution_count": 4,
   "id": "129f1ab5-f4ea-4660-b7c1-97c1941456c6",
   "metadata": {},
   "outputs": [],
   "source": [
    "#AnnoyIndex(f, metric) returns a new index that's read-write and stores vector of f dimensions. Metric can be \"angular\", \"euclidean\", \"manhattan\", \"hamming\", or \"dot\".\n",
    "# Stworzenie obiektu klasy Annoy z podaną ilością wymiarów enkodowanej bazy danych wraz z miarą.\n",
    "index_annoy = AnnoyIndex(embeddings.shape[1], 'angular')\n",
    "# Dodanie dokumentów do indeksu\n",
    "for i, embedding in enumerate(embeddings):\n",
    "    index_annoy.add_item(i, embedding)"
   ]
  },
  {
   "cell_type": "markdown",
   "id": "f10a30fe-a112-40dd-a52e-91c202b36327",
   "metadata": {},
   "source": [
    "### Dostosowanie parametrów i zapisanie indeksu do pliku ###\n",
    "W tym momencie kluczowe dla nas jest dobranie odpowiedniej liczby drzew które mają zostać stworzone. Zależnie od tego co chcemy osiągnąć możemy zdecydować się na większą ilość drzew lub mniejsza. Większa ilość drzew zwiększa jakość uzyskiwanych dokumentów, natomiast powoduję ona wzrost rozmiaru indeksu a co za tym idzie jego czas wczytania. Użytkownik musi sam dobrać indeks w zależności od swoich preferencji. Jako zespół polecamy, aby liczba drzew wynosiła około 100. Algorytm działa wtedy bardzo szybko, a jakość dokumentów jest zadowalająca (przynajmniej dla nas)."
   ]
  },
  {
   "cell_type": "code",
   "execution_count": 5,
   "id": "05a0b213-adbe-426a-a8dd-6356f1bde079",
   "metadata": {},
   "outputs": [
    {
     "data": {
      "text/plain": [
       "True"
      ]
     },
     "execution_count": 5,
     "metadata": {},
     "output_type": "execute_result"
    }
   ],
   "source": [
    "#Liczba drzew\n",
    "index_annoy.build(100)\n",
    "\n",
    "#zapisanie indeksu\n",
    "index_path = f'testAnnoyIndex.ann'\n",
    "index_annoy.save(index_path)"
   ]
  },
  {
   "cell_type": "markdown",
   "id": "95b00022-45f8-4b0a-bc0d-6d7ebecb75b6",
   "metadata": {},
   "source": [
    "# Przyklad wczytania modelu:"
   ]
  },
  {
   "cell_type": "code",
   "execution_count": 6,
   "id": "b48ce4cd-eb69-4d9f-b7ee-2fbee19f4158",
   "metadata": {},
   "outputs": [
    {
     "data": {
      "text/plain": [
       "True"
      ]
     },
     "execution_count": 6,
     "metadata": {},
     "output_type": "execute_result"
    }
   ],
   "source": [
    "u = AnnoyIndex(384, 'angular')\n",
    "u.load('testAnnoyIndex.ann')"
   ]
  },
  {
   "cell_type": "markdown",
   "id": "9efeb4d9-0c3b-491d-b9ba-c63d8044fc1b",
   "metadata": {},
   "source": [
    "# Przykładowe wyszukanie K najbliższych dokumentów #"
   ]
  },
  {
   "cell_type": "code",
   "execution_count": 7,
   "id": "b40c8dc8-b386-463d-a897-6bf407005049",
   "metadata": {},
   "outputs": [
    {
     "name": "stdout",
     "output_type": "stream",
     "text": [
      "Czas wyszukiwania: 0.015625 sekund\n",
      "[0, 471, 472]\n"
     ]
    },
    {
     "data": {
      "text/plain": [
       "['A bee is a pollinating animal',\n",
       " 'bees convert nectar into honey',\n",
       " 'bees eat pollen']"
      ]
     },
     "execution_count": 7,
     "metadata": {},
     "output_type": "execute_result"
    }
   ],
   "source": [
    "import time\n",
    "\n",
    "question = \"bee\"\n",
    "k = 3\n",
    "tick = time.process_time()\n",
    "I = u.get_nns_by_vector(model.encode(question), k)\n",
    "tock = time.process_time()\n",
    "print(f\"Czas wyszukiwania: {tock-tick} sekund\")\n",
    "print(I)\n",
    "result_facts = [facts[i] for i in I]\n",
    "result_facts"
   ]
  }
 ],
 "metadata": {
  "kernelspec": {
   "display_name": "inzynierka",
   "language": "python",
   "name": "inzynierka"
  },
  "language_info": {
   "codemirror_mode": {
    "name": "ipython",
    "version": 3
   },
   "file_extension": ".py",
   "mimetype": "text/x-python",
   "name": "python",
   "nbconvert_exporter": "python",
   "pygments_lexer": "ipython3",
   "version": "3.8.3"
  }
 },
 "nbformat": 4,
 "nbformat_minor": 5
}
