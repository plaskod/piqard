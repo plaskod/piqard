{
 "cells": [
  {
   "cell_type": "markdown",
   "id": "92a3194c-2b33-4336-9ef7-53aa585408f3",
   "metadata": {},
   "source": [
    "# Tworzenie indeksu za pomocą biblioteki fastbm25#\n",
    "W tym notatniku przedstawimy sposób korzystania z biblioteki fastbm25"
   ]
  },
  {
   "cell_type": "code",
   "execution_count": 18,
   "id": "60843942-7636-4e3a-930b-340d36b72634",
   "metadata": {},
   "outputs": [],
   "source": [
    "from fastbm25 import fastbm25\n",
    "from gensim.parsing.preprocessing import remove_stopwords\n",
    "from nltk.stem import PorterStemmer"
   ]
  },
  {
   "cell_type": "markdown",
   "id": "c7142dba-4451-48f1-8d1a-68879cc27a25",
   "metadata": {},
   "source": [
    "### Wczytanie bazy danych benchmarku OpenbookQA z pliku txt ###\n",
    "Aby wczytać fakty z benchmarka openbook należy pobrać ze strony https://allenai.org/data/open-book-qa plik z bazą danych w formacie txt"
   ]
  },
  {
   "cell_type": "code",
   "execution_count": 19,
   "id": "dc937f70-8b29-4eb3-97f4-566a5713be7a",
   "metadata": {},
   "outputs": [
    {
     "data": {
      "text/plain": [
       "['A bee is a pollinating animal',\n",
       " 'A bird is a pollinating animal',\n",
       " 'An electrical conductor is a vehicle for the flow of electricity',\n",
       " 'An example of a change in the Earth is an ocean becoming a wooded area',\n",
       " 'An example of a chemical change is acid breaking down substances']"
      ]
     },
     "execution_count": 19,
     "metadata": {},
     "output_type": "execute_result"
    }
   ],
   "source": [
    "facts_path = \"..\\openbook.txt\"\n",
    "with open(facts_path) as f:\n",
    "    facts = [line[1:-2] for line in f.readlines()]\n",
    "facts[:5]"
   ]
  },
  {
   "cell_type": "markdown",
   "id": "4f356370-3515-4b2c-96d2-29d469be132b",
   "metadata": {},
   "source": [
    "### Funkcja do preprocessu danych ###\n",
    "Ważne, aby przy wstępnym przygotowaniu danych korzystać z tej samej funkcji do przygotowania bazy danych jak i pytań które użytkownik będzie zadawał systemowi. Poniżej zamieszczona jest funkcja używana w naszym systemie"
   ]
  },
  {
   "cell_type": "code",
   "execution_count": 20,
   "id": "88b2853e-1d35-427a-bca9-3d77d2c34c9e",
   "metadata": {},
   "outputs": [],
   "source": [
    "def preprocess_query(query: str) -> list:\n",
    "    \"\"\"\n",
    "    Preprocesses the query.\n",
    "\n",
    "    :param query: The query to preprocess.\n",
    "    :return: The preprocessed query.\n",
    "    \"\"\"\n",
    "    new_sentance = []\n",
    "    sentence = remove_stopwords(query)\n",
    "    for word in sentence.lower().split():\n",
    "        new_sentance.append(PorterStemmer().stem(word))\n",
    "    return new_sentance"
   ]
  },
  {
   "cell_type": "markdown",
   "id": "3ed7ee42-9c11-4b38-83ec-84dc07dc92d0",
   "metadata": {},
   "source": [
    "## Korzystanie z biblioteki fastbm25 ##"
   ]
  },
  {
   "cell_type": "code",
   "execution_count": 24,
   "id": "42c7a02c-b8bb-44a9-8070-48b78df87da4",
   "metadata": {},
   "outputs": [
    {
     "name": "stdout",
     "output_type": "stream",
     "text": [
      "if the population of an organism increases then the ecosystem may become overpopulated with that organism\n",
      "fire causes burning\n",
      "braking can cause skidding\n"
     ]
    }
   ],
   "source": [
    "tokenized_corpus = [preprocess_query(doc) for doc in facts]\n",
    "model = fastbm25(tokenized_corpus)\n",
    "query = preprocess_query(\"Overpopulation can cause\")\n",
    "result = model.top_k_sentence(query,k=3)\n",
    "# print(result)\n",
    "for res in result:\n",
    "    print(facts[res[1]])"
   ]
  },
  {
   "cell_type": "code",
   "execution_count": null,
   "id": "db5db881-166a-43a8-9656-00be5ecc6501",
   "metadata": {},
   "outputs": [],
   "source": []
  }
 ],
 "metadata": {
  "kernelspec": {
   "display_name": "inzynierka",
   "language": "python",
   "name": "inzynierka"
  },
  "language_info": {
   "codemirror_mode": {
    "name": "ipython",
    "version": 3
   },
   "file_extension": ".py",
   "mimetype": "text/x-python",
   "name": "python",
   "nbconvert_exporter": "python",
   "pygments_lexer": "ipython3",
   "version": "3.8.3"
  }
 },
 "nbformat": 4,
 "nbformat_minor": 5
}
