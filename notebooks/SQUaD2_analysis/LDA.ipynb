{
 "cells": [
  {
   "cell_type": "code",
   "execution_count": 1,
   "id": "bc5a8a27-888c-43c9-9b10-5943ae9de7de",
   "metadata": {},
   "outputs": [
    {
     "name": "stderr",
     "output_type": "stream",
     "text": [
      "[nltk_data] Downloading package stopwords to\n",
      "[nltk_data]     C:\\Users\\korek\\AppData\\Roaming\\nltk_data...\n",
      "[nltk_data]   Package stopwords is already up-to-date!\n"
     ]
    },
    {
     "data": {
      "text/plain": [
       "True"
      ]
     },
     "execution_count": 1,
     "metadata": {},
     "output_type": "execute_result"
    }
   ],
   "source": [
    "import nltk\n",
    "nltk.download('stopwords')"
   ]
  },
  {
   "cell_type": "code",
   "execution_count": 2,
   "id": "0c8c1ecd-429a-4117-a9ff-e59dab1ea9c6",
   "metadata": {},
   "outputs": [],
   "source": [
    "import re\n",
    "from datasets import load_dataset\n",
    "import numpy as np\n",
    "import pandas as  pd\n",
    "from pprint import pprint# Gensim\n",
    "import gensim\n",
    "import gensim.corpora as corpora\n",
    "from gensim.utils import simple_preprocess\n",
    "from gensim.models import CoherenceModel# spaCy for preprocessing\n",
    "import spacy# Plotting tools\n",
    "import pyLDAvis\n",
    "import pyLDAvis.gensim_models\n",
    "import matplotlib.pyplot as plt\n",
    "%matplotlib inline"
   ]
  },
  {
   "cell_type": "code",
   "execution_count": 3,
   "id": "4e4aa326-6666-4268-b5ad-301f2c59e9cc",
   "metadata": {},
   "outputs": [],
   "source": [
    "from nltk.corpus import stopwords\n",
    "stop_words = stopwords.words('english')\n",
    "stop_words.extend(['from', 'subject', 're', 'edu', 'use'])"
   ]
  },
  {
   "cell_type": "code",
   "execution_count": 4,
   "id": "abd1fa6b-94c0-4f9c-a7cd-f8b0d40be85e",
   "metadata": {},
   "outputs": [
    {
     "name": "stdout",
     "output_type": "stream",
     "text": [
      "['rec.autos' 'comp.sys.mac.hardware' 'comp.graphics' 'sci.space'\n",
      " 'talk.politics.guns' 'sci.med' 'comp.sys.ibm.pc.hardware'\n",
      " 'comp.os.ms-windows.misc' 'rec.motorcycles' 'talk.religion.misc'\n",
      " 'misc.forsale' 'alt.atheism' 'sci.electronics' 'comp.windows.x'\n",
      " 'rec.sport.hockey' 'rec.sport.baseball' 'soc.religion.christian'\n",
      " 'talk.politics.mideast' 'talk.politics.misc' 'sci.crypt']\n"
     ]
    },
    {
     "name": "stderr",
     "output_type": "stream",
     "text": [
      "Found cached dataset squad_v2 (C:/Users/korek/.cache/huggingface/datasets/squad_v2/squad_v2/2.0.0/09187c73c1b837c95d9a249cd97c2c3f1cebada06efe667b4427714b27639b1d)\n"
     ]
    },
    {
     "name": "stdout",
     "output_type": "stream",
     "text": [
      "Dataset({\n",
      "    features: ['id', 'title', 'context', 'question', 'answers'],\n",
      "    num_rows: 130319\n",
      "})\n"
     ]
    }
   ],
   "source": [
    "# LoadDataset\n",
    "# df=pd.read_json('https://raw.githubusercontent.com/selva86/datasets/master/newsgroups.json')\n",
    "# print(df.target_names.unique())\n",
    "# df.head()\n",
    "dataset = load_dataset(\"squad_v2\", split=\"train\")\n",
    "print(dataset)"
   ]
  },
  {
   "cell_type": "code",
   "execution_count": 5,
   "id": "d7df96ca-7e52-4e93-bcb7-97ba9bda3317",
   "metadata": {},
   "outputs": [
    {
     "data": {
      "text/plain": [
       "['When did Beyonce start becoming popular?',\n",
       " 'What areas did Beyonce compete in when she was growing up?',\n",
       " \"When did Beyonce leave Destiny's Child and become a solo singer?\",\n",
       " 'In what city and state did Beyonce  grow up? ',\n",
       " 'In which decade did Beyonce become famous?',\n",
       " 'In what R&B group was she the lead singer?',\n",
       " 'What album made her a worldwide known artist?',\n",
       " \"Who managed the Destiny's Child group?\",\n",
       " 'When did Beyoncé rise to fame?',\n",
       " \"What role did Beyoncé have in Destiny's Child?\"]"
      ]
     },
     "execution_count": 5,
     "metadata": {},
     "output_type": "execute_result"
    }
   ],
   "source": [
    "dataset[\"question\"][:10]"
   ]
  },
  {
   "cell_type": "code",
   "execution_count": 6,
   "id": "53b740c0-6251-44f8-92fd-c0a920663340",
   "metadata": {},
   "outputs": [
    {
     "name": "stderr",
     "output_type": "stream",
     "text": [
      "<>:5: DeprecationWarning: invalid escape sequence \\S\n",
      "<>:7: DeprecationWarning: invalid escape sequence \\s\n",
      "C:\\Users\\korek\\AppData\\Local\\Temp/ipykernel_1936/3380574120.py:5: DeprecationWarning: invalid escape sequence \\S\n",
      "  data = [re.sub('\\S*@\\S*\\s?', '', sent) for sent in data]\n",
      "C:\\Users\\korek\\AppData\\Local\\Temp/ipykernel_1936/3380574120.py:7: DeprecationWarning: invalid escape sequence \\s\n",
      "  data = [re.sub('\\s+', ' ', sent) for sent in data]\n"
     ]
    },
    {
     "name": "stdout",
     "output_type": "stream",
     "text": [
      "['When did Beyonce start becoming popular?']\n"
     ]
    }
   ],
   "source": [
    "# Convert to list \n",
    "# data = df.content.values.tolist()  \n",
    "data = dataset[\"question\"]\n",
    "# Remove Emails \n",
    "data = [re.sub('\\S*@\\S*\\s?', '', sent) for sent in data]  \n",
    "# Remove new line characters \n",
    "data = [re.sub('\\s+', ' ', sent) for sent in data]  \n",
    "# Remove distracting single quotes \n",
    "data = [re.sub(\"\\'\", \"\", sent) for sent in data]  \n",
    "pprint(data[:1])"
   ]
  },
  {
   "cell_type": "code",
   "execution_count": 7,
   "id": "342e3072-4fd8-4762-9e8e-1e35c04ff016",
   "metadata": {},
   "outputs": [
    {
     "name": "stdout",
     "output_type": "stream",
     "text": [
      "[['when', 'did', 'beyonce', 'start', 'becoming', 'popular']]\n"
     ]
    }
   ],
   "source": [
    "def sent_to_words(sentences):\n",
    "  for sentence in sentences:\n",
    "    yield(gensim.utils.simple_preprocess(str(sentence), deacc=True))            #deacc=True removes punctuations\n",
    "data_words = list(sent_to_words(data))\n",
    "print(data_words[:1])"
   ]
  },
  {
   "cell_type": "code",
   "execution_count": 8,
   "id": "f7e6daf4-fa68-4db8-8f22-fc85bace0e83",
   "metadata": {},
   "outputs": [
    {
     "name": "stdout",
     "output_type": "stream",
     "text": [
      "['when', 'did', 'beyonce', 'start', 'becoming', 'popular']\n"
     ]
    }
   ],
   "source": [
    "# Build the bigram and trigram models\n",
    "bigram = gensim.models.Phrases(data_words, min_count=5, threshold=100) # higher threshold fewer phrases.\n",
    "trigram = gensim.models.Phrases(bigram[data_words], threshold=100)\n",
    "# Faster way to get a sentence clubbed as a trigram/bigram\n",
    "bigram_mod = gensim.models.phrases.Phraser(bigram)\n",
    "trigram_mod = gensim.models.phrases.Phraser(trigram)\n",
    "# See trigram example\n",
    "print(trigram_mod[bigram_mod[data_words[0]]])"
   ]
  },
  {
   "cell_type": "code",
   "execution_count": 9,
   "id": "af7f4e77-3621-4113-914d-9a23d2a3618b",
   "metadata": {},
   "outputs": [],
   "source": [
    "def remove_stopwords(texts):\n",
    "    return [[word for word in simple_preprocess(str(doc)) if word not in stop_words] for doc in texts]\n",
    "\n",
    "def make_bigrams(texts):\n",
    "    return [bigram_mod[doc] for doc in texts]\n",
    "\n",
    "def make_trigrams(texts):\n",
    "    return [trigram_mod[bigram_mod[doc]] for doc in texts]\n",
    "\n",
    "def lemmatization(texts, allowed_postags=['NOUN', 'ADJ', 'VERB', 'ADV']):\n",
    "    \"\"\"https://spacy.io/api/annotation\"\"\"\n",
    "    texts_out = []\n",
    "    for sent in texts:\n",
    "        doc = nlp(\" \".join(sent)) \n",
    "        texts_out.append([token.lemma_ for token in doc if token.pos_ in allowed_postags])\n",
    "    return texts_out"
   ]
  },
  {
   "cell_type": "code",
   "execution_count": 10,
   "id": "dd047dba-a253-48c3-8563-92e66930a64a",
   "metadata": {},
   "outputs": [
    {
     "name": "stderr",
     "output_type": "stream",
     "text": [
      "C:\\Python38\\lib\\site-packages\\spacy\\language.py:1895: UserWarning: [W123] Argument disable with value ['parser', 'ner'] is used instead of ['senter'] as specified in the config. Be aware that this might affect other components in your pipeline.\n",
      "  warnings.warn(\n"
     ]
    },
    {
     "name": "stdout",
     "output_type": "stream",
     "text": [
      "[['beyonce', 'start', 'become', 'popular']]\n"
     ]
    }
   ],
   "source": [
    "# Remove Stop Words\n",
    "data_words_nostops = remove_stopwords(data_words)\n",
    "\n",
    "# Form Bigrams\n",
    "data_words_bigrams = make_bigrams(data_words_nostops)\n",
    "\n",
    "# Initialize spacy 'en' model, keeping only tagger component (for efficiency)\n",
    "# python3 -m spacy download en\n",
    "nlp = spacy.load('en_core_web_sm', disable=['parser', 'ner'])\n",
    "\n",
    "# Do lemmatization keeping only noun, adj, vb, adv\n",
    "data_lemmatized = lemmatization(data_words_bigrams, allowed_postags=['NOUN', 'ADJ', 'VERB', 'ADV'])\n",
    "\n",
    "print(data_lemmatized[:1])"
   ]
  },
  {
   "cell_type": "code",
   "execution_count": 11,
   "id": "ec53d425-31cd-4c72-b55e-71bdc4ecc6f1",
   "metadata": {},
   "outputs": [
    {
     "name": "stdout",
     "output_type": "stream",
     "text": [
      "[[(0, 1), (1, 1), (2, 1), (3, 1)]]\n"
     ]
    }
   ],
   "source": [
    "# Create Dictionary \n",
    "id2word = corpora.Dictionary(data_lemmatized)  \n",
    "# Create Corpus \n",
    "texts = data_lemmatized  \n",
    "# Term Document Frequency \n",
    "corpus = [id2word.doc2bow(text) for text in texts]  \n",
    "# View \n",
    "print(corpus[:1])"
   ]
  },
  {
   "cell_type": "code",
   "execution_count": 12,
   "id": "7715e705-9bfc-4c48-9c06-26caa22e2f01",
   "metadata": {},
   "outputs": [],
   "source": [
    "lda_model = gensim.models.ldamodel.LdaModel(corpus=corpus,\n",
    "                                           id2word=id2word,\n",
    "                                           num_topics=20, \n",
    "                                           random_state=100,\n",
    "                                           update_every=1,\n",
    "                                           chunksize=100,\n",
    "                                           passes=10,\n",
    "                                           alpha='auto',\n",
    "                                           per_word_topics=True)"
   ]
  },
  {
   "cell_type": "code",
   "execution_count": 13,
   "id": "0b10f9aa-7e48-4763-88c1-92cc0347b998",
   "metadata": {},
   "outputs": [
    {
     "name": "stdout",
     "output_type": "stream",
     "text": [
      "[(0,\n",
      "  '0.193*\"new\" + 0.168*\"occur\" + 0.141*\"include\" + 0.062*\"remove\" + '\n",
      "  '0.051*\"recognize\" + 0.039*\"film\" + 0.025*\"top\" + 0.018*\"criticize\" + '\n",
      "  '0.000*\"matter\" + 0.000*\"genocide\"'),\n",
      " (1,\n",
      "  '0.259*\"make\" + 0.187*\"begin\" + 0.171*\"know\" + 0.082*\"major\" + 0.044*\"bring\" '\n",
      "  '+ 0.021*\"enter\" + 0.016*\"artist\" + 0.014*\"worldwide\" + 0.013*\"child\" + '\n",
      "  '0.013*\"hit\"'),\n",
      " (2,\n",
      "  '0.535*\"first\" + 0.144*\"act\" + 0.000*\"police\" + 0.000*\"genocide\" + '\n",
      "  '0.000*\"much\" + 0.000*\"land\" + 0.000*\"establish\" + 0.000*\"develop\" + '\n",
      "  '0.000*\"war\" + 0.000*\"use\"'),\n",
      " (3,\n",
      "  '0.372*\"become\" + 0.095*\"person\" + 0.083*\"change\" + 0.055*\"industry\" + '\n",
      "  '0.052*\"woman\" + 0.037*\"declare\" + 0.013*\"mother\" + 0.000*\"percentage\" + '\n",
      "  '0.000*\"hunt\" + 0.000*\"animal\"'),\n",
      " (4,\n",
      "  '0.236*\"area\" + 0.112*\"believe\" + 0.099*\"grow\" + 0.074*\"fight\" + 0.074*\"age\" '\n",
      "  '+ 0.073*\"leader\" + 0.069*\"receive\" + 0.023*\"competition\" + 0.000*\"hunt\" + '\n",
      "  '0.000*\"use\"'),\n",
      " (5,\n",
      "  '0.267*\"long\" + 0.177*\"help\" + 0.112*\"old\" + 0.080*\"follow\" + 0.050*\"meet\" + '\n",
      "  '0.020*\"female\" + 0.000*\"term\" + 0.000*\"last\" + 0.000*\"police\" + '\n",
      "  '0.000*\"purchase\"'),\n",
      " (6,\n",
      "  '0.122*\"raise\" + 0.119*\"music\" + 0.055*\"element\" + 0.000*\"federal\" + '\n",
      "  '0.000*\"duck_stamp\" + 0.000*\"tend\" + 0.000*\"play\" + 0.000*\"drug\" + '\n",
      "  '0.000*\"money\" + 0.000*\"much\"'),\n",
      " (7,\n",
      "  '0.236*\"work\" + 0.141*\"support\" + 0.088*\"home\" + 0.080*\"discover\" + '\n",
      "  '0.061*\"move\" + 0.058*\"sale\" + 0.018*\"annual\" + 0.016*\"band\" + '\n",
      "  '0.009*\"previous\" + 0.007*\"performance\"'),\n",
      " (8,\n",
      "  '0.816*\"many\" + 0.054*\"leave\" + 0.005*\"sell\" + 0.000*\"kathmandu\" + '\n",
      "  '0.000*\"live\" + 0.000*\"richmond\" + 0.000*\"use\" + 0.000*\"hunt\" + '\n",
      "  '0.000*\"st_bart\" + 0.000*\"notre_dame\"'),\n",
      " (9,\n",
      "  '0.191*\"show\" + 0.189*\"place\" + 0.041*\"star\" + 0.000*\"less\" + 0.000*\"hold\" + '\n",
      "  '0.000*\"risk\" + 0.000*\"study\" + 0.000*\"put\" + 0.000*\"see\" + 0.000*\"mi\"'),\n",
      " (10,\n",
      "  '0.598*\"type\" + 0.112*\"school\" + 0.106*\"member\" + 0.000*\"anthropology\" + '\n",
      "  '0.000*\"use\" + 0.000*\"study\" + 0.000*\"art\" + 0.000*\"religion\" + '\n",
      "  '0.000*\"hunting\" + 0.000*\"hunt\"'),\n",
      " (11,\n",
      "  '0.148*\"second\" + 0.134*\"release\" + 0.108*\"famous\" + 0.060*\"decade\" + '\n",
      "  '0.000*\"album\" + 0.000*\"toxin\" + 0.000*\"speech\" + 0.000*\"last\" + '\n",
      "  '0.000*\"presbyterian_church\" + 0.000*\"tetani\"'),\n",
      " (12,\n",
      "  '0.369*\"group\" + 0.227*\"large\" + 0.070*\"company\" + 0.050*\"record\" + '\n",
      "  '0.042*\"later\" + 0.009*\"cut\" + 0.000*\"genocide\" + 0.000*\"define\" + '\n",
      "  '0.000*\"kathmandu\" + 0.000*\"human\"'),\n",
      " (13,\n",
      "  '0.253*\"people\" + 0.183*\"name\" + 0.146*\"create\" + 0.112*\"take\" + '\n",
      "  '0.048*\"base\" + 0.045*\"century\" + 0.042*\"control\" + 0.027*\"book\" + '\n",
      "  '0.009*\"management\" + 0.008*\"career\"'),\n",
      " (14,\n",
      "  '0.184*\"cause\" + 0.139*\"give\" + 0.104*\"start\" + 0.098*\"describe\" + '\n",
      "  '0.087*\"event\" + 0.080*\"popular\" + 0.063*\"sign\" + 0.017*\"deal\" + '\n",
      "  '0.006*\"marry\" + 0.000*\"hunt\"'),\n",
      " (15,\n",
      "  '0.497*\"year\" + 0.153*\"time\" + 0.134*\"world\" + 0.080*\"get\" + 0.000*\"hunt\" + '\n",
      "  '0.000*\"much\" + 0.000*\"period\" + 0.000*\"police\" + 0.000*\"use\" + '\n",
      "  '0.000*\"kathmandu\"'),\n",
      " (16,\n",
      "  '0.234*\"go\" + 0.151*\"issue\" + 0.000*\"country\" + 0.000*\"back\" + 0.000*\"trade\" '\n",
      "  '+ 0.000*\"flight\" + 0.000*\"standard\" + 0.000*\"ancient\" + 0.000*\"kathmandu\" + '\n",
      "  '0.000*\"typically\"'),\n",
      " (17,\n",
      "  '0.332*\"part\" + 0.218*\"locate\" + 0.175*\"city\" + 0.021*\"manage\" + 0.015*\"job\" '\n",
      "  '+ 0.003*\"father\" + 0.000*\"find\" + 0.000*\"museum\" + 0.000*\"punjab\" + '\n",
      "  '0.000*\"anthropology\"'),\n",
      " (18,\n",
      "  '0.278*\"kill\" + 0.110*\"feature\" + 0.069*\"song\" + 0.008*\"sound\" + '\n",
      "  '0.000*\"animal\" + 0.000*\"wild\" + 0.000*\"trap\" + 0.000*\"ban\" + 0.000*\"game\" + '\n",
      "  '0.000*\"call\"'),\n",
      " (19,\n",
      "  '0.408*\"state\" + 0.072*\"role\" + 0.063*\"good\" + 0.059*\"set\" + 0.056*\"also\" + '\n",
      "  '0.047*\"man\" + 0.028*\"appear\" + 0.028*\"win\" + 0.017*\"movie\" + '\n",
      "  '0.000*\"church\"')]\n"
     ]
    }
   ],
   "source": [
    "# Print the keyword of topics\n",
    "pprint(lda_model.print_topics())\n",
    "doc_lda = lda_model[corpus]"
   ]
  },
  {
   "cell_type": "code",
   "execution_count": 14,
   "id": "81029284-1959-4943-a49e-f34ea25cc539",
   "metadata": {},
   "outputs": [
    {
     "name": "stdout",
     "output_type": "stream",
     "text": [
      "\n",
      "Perplexity:  -26.3637413221724\n"
     ]
    }
   ],
   "source": [
    "# Compute Perplexity\n",
    "print('\\nPerplexity: ', lda_model.log_perplexity(corpus))  \n",
    "# a measure of how good the model is. lower the better.\n",
    "\n",
    "# Compute Coherence Score\n",
    "# coherence_model_lda = CoherenceModel(model=lda_model, texts=data_lemmatized, dictionary=id2word, coherence='c_v')\n",
    "# coherence_lda = coherence_model_lda.get_coherence()\n",
    "# print('\\nCoherence Score: ', coherence_lda)"
   ]
  },
  {
   "cell_type": "code",
   "execution_count": 15,
   "id": "21e2d706-34ec-42b9-a66f-210e39b75abd",
   "metadata": {},
   "outputs": [
    {
     "name": "stderr",
     "output_type": "stream",
     "text": [
      "C:\\Python38\\lib\\site-packages\\pyLDAvis\\_prepare.py:246: FutureWarning: In a future version of pandas all arguments of DataFrame.drop except for the argument 'labels' will be keyword-only.\n",
      "  default_term_info = default_term_info.sort_values(\n"
     ]
    },
    {
     "data": {
      "text/html": [
       "\n",
       "<link rel=\"stylesheet\" type=\"text/css\" href=\"https://cdn.jsdelivr.net/gh/bmabey/pyLDAvis@3.3.1/pyLDAvis/js/ldavis.v1.0.0.css\">\n",
       "\n",
       "\n",
       "<div id=\"ldavis_el193622662129904165590817293\"></div>\n",
       "<script type=\"text/javascript\">\n",
       "\n",
       "var ldavis_el193622662129904165590817293_data = {\"mdsDat\": {\"x\": [0.251464913281159, 0.1857818166974383, 0.23213762081642988, 0.10895396845645142, 0.006062478558799729, 0.061806128663215304, -0.00663620479442621, 0.0041515403996778555, -0.009071122296136928, -0.012393079217740513, -0.057279964151886846, -0.043485842930015874, -0.05192081946471629, -0.051331011543778005, -0.06467325257633101, -0.1083732769170184, -0.10721302779773441, -0.11031311243210175, -0.115519472602424, -0.11214828014885964], \"y\": [0.3143720793097296, -0.042470236243238334, -0.2895920054572931, -0.010120958097733834, 1.6452475506737048e-05, -0.003954210133989451, 0.0006440098083401145, 0.00011625907863161473, 0.0007560631084464922, 0.000908357197924009, 0.002512856307228287, 0.002097189471611548, 0.0023568560332968007, 0.0023385571697186833, 0.00270739743427615, 0.0034625168735381495, 0.0034568803599354958, 0.003467977323892038, 0.0034556296281997535, 0.0034683283519799917], \"topics\": [1, 2, 3, 4, 5, 6, 7, 8, 9, 10, 11, 12, 13, 14, 15, 16, 17, 18, 19, 20], \"cluster\": [1, 1, 1, 1, 1, 1, 1, 1, 1, 1, 1, 1, 1, 1, 1, 1, 1, 1, 1, 1], \"Freq\": [11.307137066816232, 10.792840899155108, 9.35082685869152, 8.579329692489113, 6.20342201308872, 6.035599215748609, 5.3226710264584725, 5.203081801634164, 4.919596467182848, 4.780685515658309, 4.53283661776828, 4.314210987709907, 4.268585940232829, 3.988866222205836, 3.7021340342478797, 2.2207986002812166, 1.2884113337616707, 1.193077459727495, 1.0537120087457905, 0.9421762383959993]}, \"tinfo\": {\"Term\": [\"many\", \"year\", \"type\", \"first\", \"state\", \"people\", \"group\", \"make\", \"become\", \"part\", \"name\", \"begin\", \"time\", \"know\", \"create\", \"large\", \"long\", \"area\", \"locate\", \"world\", \"work\", \"cause\", \"take\", \"new\", \"city\", \"give\", \"occur\", \"help\", \"include\", \"support\", \"people\", \"name\", \"create\", \"take\", \"base\", \"century\", \"control\", \"book\", \"management\", \"career\", \"magazine\", \"race\", \"hunt\", \"use\", \"live\", \"matter\", \"kathmandu\", \"percentage\", \"police\", \"call\", \"anthropology\", \"population\", \"study\", \"humanism\", \"st_bart\", \"disease\", \"animal\", \"country\", \"system\", \"period\", \"much\", \"richmond\", \"year\", \"time\", \"world\", \"get\", \"much\", \"hunt\", \"period\", \"war\", \"police\", \"country\", \"kathmandu\", \"use\", \"form\", \"study\", \"notre_dame\", \"build\", \"call\", \"hunter\", \"population\", \"lead\", \"anthropology\", \"term\", \"percentage\", \"richmond\", \"early\", \"found\", \"remain\", \"see\", \"say\", \"find\", \"matter\", \"st_bart\", \"animal\", \"religion\", \"many\", \"leave\", \"sell\", \"kathmandu\", \"live\", \"richmond\", \"st_bart\", \"exist\", \"present\", \"notre_dame\", \"student\", \"quark\", \"lepton\", \"jehovahs_witnesse\", \"kilometer\", \"use\", \"high\", \"day\", \"find\", \"acre\", \"call\", \"disease\", \"hotel\", \"police\", \"hunt\", \"island\", \"total\", \"travel\", \"tajikistan\", \"term\", \"period\", \"anthropology\", \"hunter\", \"study\", \"form\", \"war\", \"country\", \"much\", \"make\", \"begin\", \"know\", \"major\", \"bring\", \"enter\", \"artist\", \"worldwide\", \"child\", \"hit\", \"single\", \"young\", \"lepton\", \"field\", \"quark\", \"percentage\", \"th_century\", \"physics\", \"richmond\", \"use\", \"punjab\", \"hunt\", \"form\", \"well\", \"matter\", \"notre_dame\", \"mural\", \"animal\", \"genocide\", \"kathmandu\", \"anthropology\", \"police\", \"much\", \"cause\", \"give\", \"start\", \"describe\", \"event\", \"popular\", \"sign\", \"deal\", \"marry\", \"excitation\", \"quantum\", \"particle\", \"death\", \"disease\", \"lead\", \"speech\", \"hunt\", \"eisenhower\", \"sport\", \"decline\", \"thrombolytic\", \"rise\", \"coincidental\", \"th_century\", \"country\", \"prowess\", \"display\", \"saying\", \"presence\", \"respect\", \"certain\", \"term\", \"bird\", \"number\", \"hunter\", \"police\", \"use\", \"system\", \"notre_dame\", \"end\", \"form\", \"anthropology\", \"period\", \"much\", \"percentage\", \"type\", \"school\", \"member\", \"anthropology\", \"art\", \"specific\", \"mass\", \"apply\", \"use\", \"immunoassay\", \"medium\", \"hunting\", \"infection\", \"high\", \"religion\", \"typically\", \"study\", \"focus\", \"infect\", \"problem\", \"involve\", \"tool\", \"architecture\", \"rather\", \"diagnose\", \"drug\", \"infectious_disease\", \"permanent\", \"climate\", \"creature\", \"case\", \"find\", \"richmond\", \"body\", \"system\", \"culture\", \"government\", \"exist\", \"hunt\", \"form\", \"hunter\", \"st_bart\", \"group\", \"large\", \"company\", \"record\", \"later\", \"cut\", \"define\", \"ethnic\", \"genocide\", \"target\", \"destruction\", \"own\", \"human\", \"infect\", \"history\", \"specie\", \"antelope\", \"quantity\", \"scale\", \"third\", \"avoidance\", \"genotypic\", \"identification\", \"heat\", \"punjab\", \"feel\", \"entire\", \"susceptibility\", \"definition\", \"chronic\", \"study\", \"kathmandu\", \"idea\", \"exist\", \"see\", \"percentage\", \"religious\", \"country\", \"form\", \"population\", \"anthropology\", \"consider\", \"term\", \"state\", \"role\", \"good\", \"set\", \"also\", \"man\", \"appear\", \"win\", \"movie\", \"play\", \"church\", \"separation\", \"way\", \"ban\", \"participate\", \"think\", \"research\", \"task\", \"require\", \"cop\", \"traffic\", \"vary\", \"gipper\", \"widely\", \"key\", \"license\", \"recently\", \"theory\", \"bind\", \"principle\", \"definition\", \"allow\", \"call\", \"early\", \"hunt\", \"hunter\", \"anthropology\", \"hunting\", \"animal\", \"federal\", \"matter\", \"use\", \"much\", \"population\", \"form\", \"part\", \"locate\", \"city\", \"manage\", \"job\", \"father\", \"museum\", \"find\", \"close\", \"relation\", \"substantial\", \"address\", \"due\", \"modern\", \"central\", \"dasarath\", \"stadium\", \"distribution\", \"far\", \"government\", \"present\", \"metropolitan\", \"house\", \"sub\", \"fund\", \"pump\", \"plant\", \"town\", \"marketwatch\", \"short\", \"empire\", \"punjab\", \"consider\", \"particle\", \"church\", \"population\", \"anthropology\", \"period\", \"form\", \"country\", \"study\", \"area\", \"believe\", \"grow\", \"fight\", \"age\", \"leader\", \"receive\", \"competition\", \"majority\", \"irish\", \"reduce\", \"hunter\", \"lifestyle\", \"sole\", \"jehovah_witnesse\", \"urban\", \"pathogenic\", \"minority\", \"obtain\", \"right\", \"coverage\", \"source\", \"middle_east\", \"bacteria\", \"conference\", \"small\", \"viruse\", \"egg\", \"use\", \"certain\", \"hunt\", \"team\", \"much\", \"early\", \"animal\", \"punjab\", \"country\", \"period\", \"percentage\", \"population\", \"need\", \"religion\", \"call\", \"new\", \"occur\", \"include\", \"remove\", \"recognize\", \"film\", \"top\", \"criticize\", \"matter\", \"definition\", \"convention\", \"genocide\", \"initially\", \"provision\", \"persistent_infection\", \"characteristic\", \"different\", \"various\", \"football\", \"concept\", \"month\", \"network\", \"definitely\", \"clopidogrel\", \"highlight\", \"strange\", \"allow\", \"blockage\", \"cocaine\", \"distinguished\", \"disease\", \"feel\", \"increase\", \"end\", \"write\", \"way\", \"humanism\", \"term\", \"anthropology\", \"much\", \"th_century\", \"hunting\", \"form\", \"notre_dame\", \"study\", \"work\", \"support\", \"home\", \"discover\", \"move\", \"sale\", \"annual\", \"band\", \"previous\", \"performance\", \"teacher\", \"musical\", \"duck_stamp\", \"wildlife\", \"employee\", \"federal\", \"irish\", \"fish\", \"generate\", \"relate\", \"game\", \"carnivorous\", \"dinosaur\", \"acre\", \"legal\", \"blood\", \"political\", \"percentage\", \"budget\", \"fund\", \"police\", \"notre_dame\", \"much\", \"system\", \"art\", \"focus\", \"th_century\", \"consider\", \"become\", \"person\", \"change\", \"industry\", \"woman\", \"declare\", \"mother\", \"theme\", \"wild\", \"extinct\", \"independent\", \"tyrannosaur\", \"variety\", \"common\", \"benefit\", \"president\", \"property\", \"suggest\", \"trade\", \"center\", \"less\", \"transformation\", \"wound\", \"deer_stalke\", \"coronary\", \"ischemia\", \"endowment\", \"malloy\", \"angina\", \"invincible\", \"heart_attack\", \"percentage\", \"early\", \"animal\", \"hunting\", \"hunt\", \"eisenhower\", \"genocide\", \"kathmandu\", \"notre_dame\", \"country\", \"long\", \"help\", \"old\", \"follow\", \"meet\", \"female\", \"purchase\", \"term\", \"last\", \"focus\", \"west\", \"understanding\", \"gown\", \"face\", \"mask\", \"local\", \"wear\", \"duck\", \"drug\", \"federal\", \"exploration\", \"provide\", \"catch\", \"bicycle\", \"prevent\", \"stamp\", \"money\", \"month\", \"inadequate\", \"population\", \"protect\", \"military\", \"exist\", \"police\", \"say\", \"kathmandu\", \"land\", \"anthropology\", \"notre_dame\", \"hunter\", \"period\", \"portugal\", \"human\", \"first\", \"act\", \"police\", \"land\", \"genocide\", \"establish\", \"develop\", \"able\", \"prosecutable\", \"oil\", \"baptist\", \"writing\", \"ce\", \"centry\", \"general_assembly\", \"send\", \"homestead\", \"resolution\", \"order\", \"antelope\", \"much\", \"wireless\", \"amendment\", \"officially\", \"pheasant\", \"war\", \"arrest\", \"limit\", \"message\", \"step\", \"convict\", \"found\", \"decline\", \"business\", \"court\", \"say\", \"country\", \"use\", \"richmond\", \"hunt\", \"write\", \"animal\", \"college\", \"allow\", \"second\", \"release\", \"famous\", \"decade\", \"album\", \"toxin\", \"speech\", \"presbyterian_church\", \"clostridium\", \"tetani\", \"last\", \"tissue\", \"damage\", \"variety\", \"patrick_henry\", \"estate\", \"electron\", \"several\", \"shoot\", \"bird\", \"euphoria\", \"sepsis\", \"joy\", \"henrys\", \"patrick\", \"persuade\", \"virginian\", \"repair\", \"delegate\", \"congregant\", \"shock\", \"convention\", \"war\", \"notable\", \"lack\", \"language\", \"hold\", \"produce\", \"product\", \"kill\", \"feature\", \"song\", \"sound\", \"animal\", \"wild\", \"trap\", \"ban\", \"strain\", \"quickly\", \"extremely\", \"geographic\", \"virus\", \"examine\", \"infectious\", \"victim\", \"organism\", \"game\", \"practice\", \"notably\", \"property\", \"wound\", \"body\", \"culture\", \"shakyas\", \"policy\", \"mistake\", \"endangered\", \"incapacitate\", \"shoot\", \"punjab\", \"call\", \"illegally\", \"war\", \"allow\", \"show\", \"place\", \"star\", \"less\", \"put\", \"risk\", \"hold\", \"cattle\", \"horse\", \"mi\", \"television\", \"protect\", \"see\", \"national\", \"western\", \"position\", \"dwarf\", \"probe\", \"euripde\", \"noble\", \"white\", \"benedict\", \"proprietary\", \"legend\", \"mass\", \"male\", \"itinerant\", \"busk\", \"venueless\", \"burial\", \"stemi\", \"study\", \"importance\", \"right\", \"level\", \"trophy\", \"use\", \"local\", \"reach\", \"law\", \"often\", \"game\", \"raise\", \"music\", \"element\", \"duck_stamp\", \"federal\", \"tend\", \"money\", \"perform\", \"hill\", \"remotely\", \"play\", \"drug\", \"genre\", \"folk\", \"paragraph\", \"urs\", \"democritus\", \"gun\", \"couple\", \"summer\", \"concern\", \"bluegrass\", \"festival\", \"victory\", \"blue\", \"locally\", \"folkore\", \"utility\", \"domestic\", \"bout\", \"accord\", \"important\", \"traditional\", \"example\", \"much\", \"hunting\", \"hunter\", \"portugal\", \"go\", \"issue\", \"hardcore\", \"uninvite\", \"detective\", \"bolshevick\", \"back\", \"flight\", \"ecotourist\", \"fermentation\", \"tongba\", \"trade\", \"allele\", \"gene\", \"waterfowl\", \"department\", \"migratory\", \"requirement\", \"writer\", \"address\", \"variant\", \"carry\", \"genetic\", \"process\", \"generate\", \"ancient\", \"paragraph\", \"patient\", \"achieve\", \"standard\", \"typically\", \"less\", \"international\", \"country\", \"war\", \"hunter\", \"christian\", \"kathmandu\", \"hunting\", \"police\"], \"Freq\": [40627.0, 28548.0, 19224.0, 10540.0, 11311.0, 15257.0, 10457.0, 11839.0, 8452.0, 8695.0, 11032.0, 8548.0, 8770.0, 7817.0, 8809.0, 6447.0, 5683.0, 6020.0, 5713.0, 7713.0, 5424.0, 6091.0, 6750.0, 4650.0, 4594.0, 4600.0, 4054.0, 3765.0, 3401.0, 3247.0, 15253.235280806444, 11027.952768249703, 8805.390204731577, 6746.09853402289, 2886.847139196726, 2690.4190575753164, 2529.4320062223305, 1645.8837375803082, 516.7157095912364, 509.9409935190892, 178.10648549704126, 173.35170149662954, 0.264747969832195, 0.26464673626870405, 0.2644825396992561, 0.2644993754595446, 0.26454900673337073, 0.26450416612304134, 0.2645086830343383, 0.2644259551195547, 0.2644849760938344, 0.26440153642333136, 0.2643960340041151, 0.26431459272467067, 0.2643033962596983, 0.2643113350734929, 0.2643299502230802, 0.2643422964472918, 0.2642922545451659, 0.26432951221956047, 0.264352261027365, 0.26431508547863036, 28544.11871019724, 8766.405914035695, 7709.530695602407, 4590.025851491527, 0.2870330995683399, 0.28707109270436554, 0.28691389414430346, 0.2868216027024585, 0.28689393076333813, 0.2868341712708411, 0.28684046862007234, 0.28686168624486796, 0.2867760841034512, 0.28675599007208685, 0.2867327604311468, 0.28667804404405073, 0.2867294941711721, 0.286728605748459, 0.28671177797706937, 0.28667117183306395, 0.2867780177293562, 0.2867159326597572, 0.28673095745564076, 0.28670307666049677, 0.28665003259850774, 0.2866038084873459, 0.286615279592377, 0.28662421607966776, 0.28664574726542097, 0.2866555721754248, 0.2866772601416568, 0.2866412006315362, 0.2866678271828499, 0.2866466356881341, 40623.37151232738, 2693.704973362717, 229.19518982492266, 0.22808261627484822, 0.2279027503570417, 0.22787950022518677, 0.22780279969283582, 0.227786997753172, 0.2277575672065202, 0.2277896238634886, 0.22773225693639967, 0.2277223184671842, 0.22771874152382188, 0.22770868986019618, 0.22767015848296437, 0.2278118326067697, 0.22769793639122726, 0.22767083764942558, 0.2277140326363576, 0.22765089279434847, 0.22772786499328393, 0.22770024555719534, 0.22763644918760706, 0.22777538400668557, 0.227803478859297, 0.22764656876787887, 0.22762621641292505, 0.2276354983545614, 0.22765236432168107, 0.22772349568905026, 0.22771706624655094, 0.22775571081819293, 0.22770604111099754, 0.22771047833187735, 0.2277001776405492, 0.2276793725079546, 0.22769519708650046, 0.2277007436126002, 11835.710924100506, 8544.687606204736, 7813.507223121539, 3756.982297730849, 2023.5766960380154, 948.4067093716078, 721.7527832381572, 635.8424386051934, 607.879320387073, 597.2777690709546, 550.4652364800032, 277.8655969434183, 0.2692132267846218, 0.26904232263743116, 0.26898563845929757, 0.26905804631747776, 0.26899976276898274, 0.26889995790422205, 0.2689842675704164, 0.26899922272184773, 0.26889821313655504, 0.269010272917072, 0.26889615680323325, 0.26880104619433853, 0.2688836318639095, 0.2688808900861471, 0.26877082432582095, 0.2688785845003014, 0.2688850027527907, 0.2689222452340635, 0.2689419154124045, 0.2689237615202503, 0.2688946197460028, 6087.25281165221, 4596.810281457459, 3447.403105038655, 3243.431415492625, 2863.18625805516, 2654.513427595055, 2083.5045596591335, 551.1267082917669, 182.6574874515542, 0.26724202171138906, 0.26724289280390273, 0.26725752115059825, 0.2672537364038146, 0.2672386274543529, 0.26719534316772414, 0.26712175086915335, 0.2673129106194001, 0.26715401132983296, 0.2670945367375186, 0.2670842938910645, 0.26704067919003394, 0.2670470471766858, 0.2670369545185961, 0.2671396533221934, 0.26717074231363047, 0.2670356929363349, 0.2670409495290899, 0.26703268916904627, 0.2670535052763563, 0.26703172796351393, 0.26705560791345834, 0.26715620407995366, 0.26706200593778306, 0.26708630641514786, 0.26713553816100805, 0.2671734457041902, 0.26716872978954714, 0.2670973903164428, 0.26710994606370914, 0.26708348287389655, 0.26709880208706843, 0.26711664446476274, 0.2670996731795821, 0.26710333777567424, 0.26709790095688185, 19220.490753768077, 3584.798135727032, 3404.9686178807237, 0.21660231987747278, 0.21622562351984442, 0.21617822047922428, 0.21619452806039938, 0.21616360795128958, 0.2163011410642109, 0.21615001830031033, 0.2161594433808282, 0.2162114639802757, 0.2161685031481477, 0.21619438193512006, 0.21621653452746903, 0.21615954566852374, 0.2162345079368287, 0.21618301338838686, 0.21614510849092428, 0.21614874701038, 0.2161425951361195, 0.21613591721085335, 0.2161213631330304, 0.2161217868963405, 0.21612231294734616, 0.21614303351195754, 0.21612432947620114, 0.21611414454423067, 0.21611825066458032, 0.21610917628473286, 0.2161310512390511, 0.21618131833514642, 0.21620183432436674, 0.21614008178131475, 0.21616805015978174, 0.21614671586899709, 0.21614959453700022, 0.2161468473817485, 0.2162039239158614, 0.21616539067969762, 0.2161552788103668, 0.21614889313565935, 10453.328760961593, 6443.409683088992, 1979.3468775468984, 1413.4583581937886, 1181.1100889153274, 241.89529902738207, 0.24190407709707157, 0.2418284849563305, 0.24192655113277775, 0.2418154438301065, 0.24181268612159668, 0.24179817593569924, 0.24186492794542286, 0.24180546968811306, 0.24181441291103742, 0.2418177118520585, 0.24179034095077415, 0.24177361428887817, 0.2417651349795349, 0.24176938752069488, 0.2417535371400076, 0.24175186189652034, 0.24175193921545052, 0.24175472269693707, 0.2418364230331625, 0.24177760910027088, 0.24174887223122, 0.24174696503094217, 0.24180714493160033, 0.24174791863108108, 0.24186235064775014, 0.24187814948248393, 0.24177717095966653, 0.24179186155640106, 0.24178704200975307, 0.24183724776841778, 0.24177804724087526, 0.2418166551600127, 0.24180500577453196, 0.24179866562225705, 0.2418191035928018, 0.24178526367435887, 0.2417885110694265, 11307.111922751223, 1986.68090647443, 1739.8507525144853, 1633.56385949314, 1550.5465506709909, 1291.8684568589083, 779.3969697268601, 770.389194008963, 457.7725934782956, 0.22581945894636948, 0.2258448292158931, 0.22579061191697072, 0.22578081148514878, 0.22572460386716744, 0.22569875491331318, 0.2257359159337177, 0.22571762515350502, 0.2256788265288115, 0.22570792549733165, 0.22567900288619647, 0.22568069087830975, 0.22567378774638377, 0.22567232649947971, 0.22567613078021265, 0.22567928001923, 0.22568119475655252, 0.22567474511504504, 0.2257001909663051, 0.22567371216464735, 0.22567630713759762, 0.22571873368563913, 0.22572886163831887, 0.22574360007692, 0.22571427436319058, 0.2257886467918239, 0.2257329934399096, 0.22576478815702858, 0.22571523173185185, 0.22572994497654084, 0.225695454510823, 0.22571828019522064, 0.22573246436775468, 0.22572163098553508, 0.22570767355821025, 0.2257077743338588, 8691.451437216669, 5709.741450118988, 4589.996758528547, 539.134920003552, 389.5832322717418, 83.31143237765274, 0.2259100300056923, 0.22595443280450944, 0.22588820974618776, 0.22586824754371523, 0.2258551935020029, 0.22585659895539895, 0.22586455525089513, 0.22587532245318342, 0.22585595578181092, 0.22583668439541443, 0.22583785163637046, 0.22583234892900633, 0.2258353980482384, 0.22587653733662744, 0.22586155377415107, 0.22582899013360225, 0.2258471181002867, 0.22582929980977423, 0.22585393097607087, 0.225819818954662, 0.2258357553668984, 0.22582503580709815, 0.2258156502369619, 0.22582120058681404, 0.22584530768574265, 0.2258939744872359, 0.2258752271682074, 0.22585354983616687, 0.22586577013433917, 0.22587637058791946, 0.22589235464264384, 0.2258552649657349, 0.22585028632573878, 0.22585233495272283, 0.22584506947330266, 6016.058523833209, 2845.5311722468077, 2529.765214211053, 1882.0165991828294, 1871.9224076225844, 1863.3115293515416, 1763.1173386659066, 590.6731962733178, 0.22233669843645307, 0.22228595665830012, 0.22228475292998628, 0.22236035632754445, 0.22226086355268068, 0.22223956682097418, 0.222263965467951, 0.22224252984451595, 0.2222340805976976, 0.2222450298956293, 0.222249034607135, 0.22224116407585215, 0.22222898790098516, 0.22224165019690198, 0.22223625656811108, 0.2222354926636042, 0.22222808510474978, 0.2222581320153531, 0.2222239877987584, 0.2222244276225654, 0.2223777640908524, 0.2222415576024163, 0.22238056507404422, 0.22224746050087843, 0.222329036242763, 0.22226327100930837, 0.22227417400999727, 0.22226347934690116, 0.22227588700798237, 0.22227040078470578, 0.22227197489096237, 0.2222614422682162, 0.22224757624398553, 0.22225577085596826, 0.2222505392675273, 4646.257842130905, 4050.751565958764, 3397.0796424424325, 1505.6418336426832, 1223.2277098867057, 945.6424435205704, 595.2801749241114, 429.8931803136724, 0.2680182470395425, 0.2679538720627943, 0.26790014211288654, 0.26798549986419024, 0.26786113961248365, 0.2678574961599981, 0.26783236511725117, 0.26783592077570095, 0.26784527084051335, 0.2678384668027391, 0.26784575370771024, 0.26782898504687297, 0.267831574970929, 0.267819459393989, 0.26780927528583653, 0.26780776083871904, 0.26780857293355015, 0.26781028491724823, 0.26788912396139397, 0.2678057854729136, 0.2678057854729136, 0.26780940697689026, 0.26789623527829354, 0.26783765470790794, 0.26786750468007897, 0.26787962025701895, 0.26786741688604315, 0.2678435149597974, 0.26786715350393575, 0.26789597189618614, 0.26793159432621083, 0.2678937111997644, 0.26786785585622214, 0.26785350153136933, 0.26785350153136933, 0.26784700477272033, 0.26784759738246194, 5420.234291158142, 3243.223193071314, 2017.1424308281294, 1827.378370366209, 1390.5154359689157, 1341.3027969960829, 422.89166308658696, 378.2672774874717, 216.0064046311933, 164.03624018350587, 91.36259098465911, 51.98914383995302, 0.2338742413678316, 0.2338198022914147, 0.2338054927106988, 0.23383020546104463, 0.23379429572491237, 0.2337909115612978, 0.23377547392604375, 0.23378527128860688, 0.23382337446411894, 0.23376578101297488, 0.23376630326044626, 0.23378297339973278, 0.23377929677753426, 0.23377566193513344, 0.2337918516067463, 0.23388178262131837, 0.23375723704434306, 0.23378345386740645, 0.23389834831111062, 0.23381522740356536, 0.2338281164711591, 0.23379828569559372, 0.23379197694613943, 0.2337869424805153, 0.23379191427644286, 0.2337848743805286, 8448.760004318035, 2147.9235183304104, 1875.9089947770312, 1239.3140000763397, 1184.0532003980738, 851.6051431857568, 296.3476229553233, 0.24388934246252134, 0.24389959427521318, 0.24387237323223906, 0.24386416764829014, 0.24385292372469264, 0.24386214208852441, 0.24387549424779645, 0.24386365092386011, 0.24386623454601028, 0.24384182448393552, 0.24384659901766903, 0.24384527620312815, 0.24384393271961005, 0.2438569128372925, 0.24382103149287102, 0.24384366402290644, 0.24383103527783645, 0.2438192539608317, 0.2438192539608317, 0.2438165049868639, 0.24381685635947634, 0.2438115030943812, 0.24380908482404864, 0.24382008071991976, 0.24392902689874785, 0.24387375805371156, 0.24390821323870612, 0.2438664619047595, 0.24392644327659768, 0.2438524690071942, 0.24386590384237505, 0.24387557692370526, 0.24384841788766273, 0.24384568958267216, 5679.3305921134415, 3761.270253041776, 2378.2435259591516, 1700.785977463339, 1068.1072942101596, 424.113881186326, 0.22723700370975963, 0.22731555595453426, 0.22723835572774198, 0.2272246810315776, 0.22717287942831094, 0.2271723965647458, 0.22715568948539247, 0.22715568948539247, 0.2271557860581055, 0.22718759710977596, 0.22715615303441497, 0.2271616190499722, 0.22717946568733924, 0.2271843136375331, 0.22714066277124575, 0.2271707934577096, 0.22713844159884616, 0.22713851885701658, 0.2271612520736627, 0.22716215985716515, 0.22715095742245422, 0.2271519810932123, 0.22713343913231146, 0.22722674768763634, 0.2271557860581055, 0.22715877981220928, 0.22717614358601118, 0.2272380660096029, 0.22718174480336664, 0.22722164864838862, 0.2271658103057175, 0.22719242574542722, 0.22717681959500236, 0.2271751199152531, 0.227172338621118, 0.22716455486044818, 0.22716488320767245, 10536.159448945635, 2837.491116744525, 0.23149206354595367, 0.23128485514534441, 0.23133956576379405, 0.23127694971194457, 0.23124810653203454, 0.2312022335069321, 0.23117738785910405, 0.23119104758756362, 0.2311805607881557, 0.2311909758829523, 0.23117582828380748, 0.23117582828380748, 0.2311775671206324, 0.23118423564948667, 0.23117450174849774, 0.2311777284560079, 0.23117728030218704, 0.23118529329250387, 0.23130396442426557, 0.23116383568756146, 0.23117685007451902, 0.23117401774237123, 0.23116218648150072, 0.23124367877228452, 0.23116573585976188, 0.23118174391424273, 0.23116396117063132, 0.23116050142313432, 0.23116378190910297, 0.23119142403677315, 0.2311886096307782, 0.23117891158209494, 0.2311777822344664, 0.2311975547810424, 0.23122166545660425, 0.23124280039079564, 0.23121082013413963, 0.23123695646497172, 0.23118832281233284, 0.2312004946701072, 0.23118086553275385, 0.23117928803130447, 1748.7183914875154, 1580.9579688638592, 1282.1245965527733, 708.1701935969015, 1.5836139252653856, 0.23742168558342833, 0.23737927433682565, 0.23729890373411053, 0.23729673155565878, 0.23729673155565878, 0.23733645446259344, 0.23729673155565878, 0.23729673155565878, 0.23729673155565878, 0.23728195644084332, 0.23727948316834876, 0.23727509579801054, 0.237285311488749, 0.2372792681011753, 0.23727928960789266, 0.23724490036685936, 0.23724490036685936, 0.23724490036685936, 0.23724242709436477, 0.23724242709436477, 0.23724242709436477, 0.23724242709436477, 0.23724490036685936, 0.23724242709436477, 0.23724066354354256, 0.23724490036685936, 0.23726049273693386, 0.23728752668063546, 0.23725451386951218, 0.23724771774683143, 0.23725565372553142, 0.23725371812097046, 0.2372453089944889, 0.2372449218735767, 1905.5051918115146, 757.576514947358, 471.4776005233505, 57.01169480190805, 0.13410598388744238, 0.13394581320351087, 0.1339124365127329, 0.13390659715150519, 0.1338727837563619, 0.1338727837563619, 0.1338727962336295, 0.1338707374844787, 0.1338727837563619, 0.1338721349384477, 0.1338721349384477, 0.1338727837563619, 0.1338721349384477, 0.1338937705204324, 0.133873494960614, 0.13386456123702634, 0.13386069328407635, 0.13386069328407635, 0.13386738109949953, 0.1338721349384477, 0.1338360382033372, 0.13384648167630211, 0.13383440368128413, 0.13383431634041107, 0.13383421652227043, 0.13384648167630211, 0.13387187291582853, 0.13387350743788157, 0.13383456588576267, 0.13383948192918943, 0.13383708629381397, 1210.270329220567, 1197.4647607165757, 258.58281650055466, 0.1345892761012089, 0.13452913736089225, 0.13453799930398982, 0.13454721942210177, 0.13451604664181852, 0.13451604664181852, 0.1345230599396806, 0.13451001543673777, 0.13451984791858396, 0.1345289640504014, 0.13451604664181852, 0.13450129214203285, 0.13450547470187812, 0.13448824763909, 0.13448824763909, 0.1344822857582056, 0.1344822857582056, 0.13448824763909, 0.13448244751466368, 0.1344822857582056, 0.1344822857582056, 0.13450584443092523, 0.13447970920890864, 0.13447632387732117, 0.13447632387732117, 0.13447632387732117, 0.13447625455312484, 0.13447970920890864, 0.1345297035084956, 0.1344822857582056, 0.13448244751466368, 0.1344829790001689, 0.1344829790001689, 0.1344872771003414, 0.1344830252162998, 0.1344829790001689, 0.13448278258161261, 0.13448263237918723, 0.13448248217676187, 685.5021854819358, 669.278030570037, 308.0199262357144, 0.14411728959827017, 0.14411728959827017, 0.14404505274917462, 0.1440418179587857, 0.14403172582094764, 0.14402928697267334, 0.1440242255971752, 0.14404488947899727, 0.14404284860178027, 0.14402146020854617, 0.1440269501682599, 0.1440218479752174, 0.1440213683690714, 0.14402433784542212, 0.1440242255971752, 0.14401880706816408, 0.14401870502430322, 0.14402928697267334, 0.14401428652512843, 0.14401870502430322, 0.14401216401282277, 0.1440143069339006, 0.14400919453647204, 0.14400822511979397, 0.14400822511979397, 0.14400919453647204, 0.1440060821987161, 0.14402732773054502, 0.14402424600594738, 0.14401429672951452, 0.14401890911202492, 0.1440365831087241, 0.1440242255971752, 0.1440242255971752, 0.14401870502430322, 1173.6428541544342, 756.3606577797854, 0.11260401908751033, 0.11260401908751033, 0.11260461216365553, 0.1126025865805135, 0.11260989510347189, 0.11260540597326524, 0.11260401908751033, 0.11260057924586825, 0.11260057924586825, 0.11260609029189429, 0.11259879089318431, 0.11259879089318431, 0.11260171977691669, 0.11260461216365553, 0.11260171977691669, 0.11260171977691669, 0.11260227635606833, 0.11260201175286509, 0.11259879089318431, 0.11259879089318431, 0.11259879089318431, 0.11260057924586825, 0.11259770510762619, 0.11260520523980071, 0.11259327984715825, 0.11259890950841334, 0.11259879089318431, 0.11260531473078136, 0.11260520523980071, 0.11260401908751033, 0.11260453004542004, 0.11262486799507576, 0.11260290592920706, 0.11260401908751033, 0.11259960295129079, 0.11260520523980071, 0.11260171977691669, 0.11260461216365553], \"Total\": [40627.0, 28548.0, 19224.0, 10540.0, 11311.0, 15257.0, 10457.0, 11839.0, 8452.0, 8695.0, 11032.0, 8548.0, 8770.0, 7817.0, 8809.0, 6447.0, 5683.0, 6020.0, 5713.0, 7713.0, 5424.0, 6091.0, 6750.0, 4650.0, 4594.0, 4600.0, 4054.0, 3765.0, 3401.0, 3247.0, 15257.381356858057, 11032.098844301316, 8809.53628078319, 6750.244610074497, 2890.993215248333, 2694.5651336269234, 2533.5780822739375, 1650.029813631916, 520.8617856543983, 514.0870695706972, 182.25256154864917, 177.49777754823745, 4.413830108147053, 4.413311868940181, 4.4117632040212875, 4.4120560074177275, 4.412944387907092, 4.412579485542508, 4.413232900706274, 4.4121081559943915, 4.413289693741402, 4.411990039299676, 4.412354699964651, 4.411531928759915, 4.41152482024075, 4.411687059058241, 4.412202676482178, 4.412442927490867, 4.411635729130404, 4.412258998318874, 4.412803805192198, 4.412218703138428, 28548.24242250043, 8770.529626338892, 7713.6544079056, 4594.14956379472, 4.412803805192198, 4.413830108147053, 4.412258998318874, 4.411708955841278, 4.413232900706274, 4.412442927490867, 4.412944387907092, 4.413311868940181, 4.412134076852491, 4.412354699964651, 4.412117393140959, 4.411286911090739, 4.4121081559943915, 4.41218557008661, 4.411990039299676, 4.411590981747476, 4.413289693741402, 4.412334271587019, 4.412579485542508, 4.412218703138428, 4.411471163307505, 4.410791608825979, 4.410975990138937, 4.411144423910275, 4.411479329626091, 4.411714735202835, 4.4120560074177275, 4.41152482024075, 4.412202676482178, 4.411881202137758, 40627.55408484859, 2697.88754588392, 233.3777623461265, 4.412944387907092, 4.4117632040212875, 4.412218703138428, 4.41152482024075, 4.411266797395423, 4.410870170754756, 4.412117393140959, 4.411243663089273, 4.411057093410553, 4.411259853387731, 4.411144089667466, 4.410424977263207, 4.413311868940181, 4.411295720941644, 4.410869817806341, 4.411714735202835, 4.410571526759945, 4.4121081559943915, 4.411687059058241, 4.410521370134059, 4.413232900706274, 4.413830108147053, 4.410805187070346, 4.410413464055916, 4.4106224587953164, 4.4109550445499455, 4.412334271587019, 4.412258998318874, 4.413289693741402, 4.41218557008661, 4.412354699964651, 4.412134076852491, 4.411708955841278, 4.412442927490867, 4.412803805192198, 11839.852377560188, 8548.829059664418, 7817.64867658122, 3761.123751190529, 2027.718149497696, 952.5481628312883, 725.8942366978378, 639.9838920648739, 612.0207738467535, 601.4192225306351, 554.6066899396837, 282.00705040309884, 4.411259853387731, 4.411493952164032, 4.411057093410553, 4.412579485542508, 4.411911230232225, 4.410591751433803, 4.412218703138428, 4.413311868940181, 4.411757559277193, 4.413830108147053, 4.412134076852491, 4.410691340470332, 4.4120560074177275, 4.412117393140959, 4.410350943398581, 4.412202676482178, 4.4123215599381576, 4.412944387907092, 4.413289693741402, 4.413232900706274, 4.412803805192198, 6091.395940840647, 4600.953410645896, 3451.5462342270926, 3247.5745446810624, 2867.3293872435975, 2658.6565567834923, 2087.647688847571, 555.2698374802045, 186.8006166399919, 4.410492590960858, 4.410548585264757, 4.410992911279066, 4.410934018689723, 4.411687059058241, 4.411590981747476, 4.410631973630925, 4.413830108147053, 4.411597384743127, 4.4107704080680135, 4.410757013542231, 4.410242501880178, 4.4103684184487495, 4.410213286668063, 4.411911230232225, 4.412442927490867, 4.410219551032561, 4.410332465706523, 4.410206231842978, 4.410555437112089, 4.410216877271362, 4.410618507976752, 4.412334271587019, 4.4107382700947655, 4.4111999812940645, 4.41218557008661, 4.413232900706274, 4.413311868940181, 4.411635729130404, 4.412117393140959, 4.411435115026655, 4.412134076852491, 4.413289693741402, 4.412258998318874, 4.412803805192198, 4.412579485542508, 19224.6847838892, 3588.992165848157, 3409.162648001849, 4.413289693741402, 4.411331669986154, 4.41049903417115, 4.41105736019809, 4.410497957169525, 4.413311868940181, 4.410274245314339, 4.4105231970980805, 4.411605932655783, 4.410762907509128, 4.411295720941644, 4.411881202137758, 4.410721487712271, 4.412354699964651, 4.411324376951473, 4.410562462011496, 4.410745255881882, 4.410654710142154, 4.4105436431668545, 4.410308374063588, 4.410320476621158, 4.4103436557032865, 4.410789510663184, 4.410411300878555, 4.410244845187359, 4.410359606490288, 4.410194521046307, 4.4106445219818236, 4.411714735202835, 4.412218703138428, 4.410861462791783, 4.411635729130404, 4.411047058422899, 4.4111449958604405, 4.411266797395423, 4.413830108147053, 4.412134076852491, 4.41218557008661, 4.41152482024075, 10457.49715422329, 6447.578076350687, 1983.515270808594, 1417.6267514554843, 1185.278482177023, 246.06369228907778, 4.410866309972462, 4.410371527857547, 4.4123215599381576, 4.41046099359812, 4.410437419537018, 4.410363145427794, 4.411583633975169, 4.410562462011496, 4.410755848665413, 4.410933025852805, 4.410477748996389, 4.4102851823328395, 4.410222314646358, 4.410306680202262, 4.410194713022815, 4.4101742005794256, 4.41017715017931, 4.410241664726608, 4.411757559277193, 4.410705103705767, 4.410199553475243, 4.410167297991561, 4.411271118189284, 4.41022923772732, 4.412354699964651, 4.412944387907092, 4.410811703847955, 4.411266797395423, 4.411144423910275, 4.412579485542508, 4.4109209856137, 4.412442927490867, 4.412134076852491, 4.411990039299676, 4.413289693741402, 4.411455643354692, 4.412334271587019, 11311.29639077651, 1990.865374499717, 1744.0352205397724, 1637.748327518427, 1554.731018696278, 1296.0529248841954, 783.5814377521473, 774.5736620342502, 461.9570615035827, 4.410835805010672, 4.411388403682345, 4.410472838061522, 4.410920648302714, 4.410811879536653, 4.410429754398029, 4.4111633565359485, 4.410833102900852, 4.410204585644986, 4.410778830045195, 4.41021606940781, 4.410259315069131, 4.410163105262315, 4.410177609201978, 4.4102523347933325, 4.4103385541836015, 4.4104010793252, 4.410281983981522, 4.410803944202285, 4.4103125260577345, 4.410395023989007, 4.411271118189284, 4.411524687844858, 4.4121081559943915, 4.411471163307505, 4.413830108147053, 4.41218557008661, 4.413289693741402, 4.411605932655783, 4.412202676482178, 4.410923252364065, 4.4120560074177275, 4.413311868940181, 4.412803805192198, 4.411990039299676, 4.412134076852491, 8695.635758538625, 5713.925771440943, 4594.181079850502, 543.3192413255077, 393.76755359369747, 87.49575374590567, 4.410460022037887, 4.411714735202835, 4.410543899224299, 4.410521285860041, 4.410302765502528, 4.410367899496534, 4.4106089016837755, 4.410830426648843, 4.410528067301458, 4.410260939162853, 4.410319996936329, 4.41023124938681, 4.41031547797989, 4.4111449958604405, 4.410870170754756, 4.410267061784617, 4.410681667986119, 4.4103341862802035, 4.410820446924536, 4.410181387706199, 4.410536034791952, 4.4103595448711905, 4.410183569728828, 4.410292355840595, 4.41077311250073, 4.411757559277193, 4.411455643354692, 4.410992911279066, 4.411388403682345, 4.411990039299676, 4.413289693741402, 4.412258998318874, 4.412134076852491, 4.412442927490867, 4.412354699964651, 6020.246430429983, 2849.719078843583, 2533.953120807828, 1886.2045057796047, 1876.1103142193597, 1867.499435948317, 1767.3052452626819, 594.8611028700932, 4.410790009022492, 4.410463959308902, 4.410498022469151, 4.41218557008661, 4.410381128291732, 4.410199150821047, 4.410687198695823, 4.4103354106340475, 4.410169362733961, 4.410394355348707, 4.4105377498405645, 4.410409505600356, 4.410169831453563, 4.410421746538788, 4.4103161121552885, 4.4103417133812215, 4.410284703308934, 4.41088373700913, 4.410211856347318, 4.41025113020769, 4.413311868940181, 4.410618507976752, 4.413830108147053, 4.410785720670628, 4.412803805192198, 4.411471163307505, 4.412202676482178, 4.411757559277193, 4.412442927490867, 4.412258998318874, 4.412579485542508, 4.411990039299676, 4.410950644535576, 4.411881202137758, 4.4121081559943915, 4650.400178445347, 4054.893902273205, 3401.221978756874, 1509.7841699571252, 1227.3700462011477, 949.7847798350124, 599.4225112385534, 434.03551662811424, 4.4120560074177275, 4.411271118189284, 4.410677700994402, 4.4123215599381576, 4.4104126892425475, 4.410372282031293, 4.410319706746136, 4.41038001926346, 4.410546479244618, 4.410463094379192, 4.4106399713543425, 4.410405480317152, 4.410516380770042, 4.41032929317313, 4.410165873108746, 4.410163818179131, 4.410184931643436, 4.410217845465658, 4.411524687844858, 4.4101613041086996, 4.4101613041086996, 4.410231446483617, 4.411687059058241, 4.410705103705767, 4.411218034986846, 4.411435115026655, 4.411261548700008, 4.410920648302714, 4.411531928759915, 4.412334271587019, 4.413289693741402, 4.412803805192198, 4.411911230232225, 4.411605932655783, 4.412134076852491, 4.412117393140959, 4.412354699964651, 5424.410687693807, 3247.3995896069787, 2021.3188273637943, 1831.554766901874, 1394.6918325045806, 1345.4791935521566, 427.06805962225195, 382.4436740231367, 220.18280116685835, 168.21263671917092, 95.53898752032416, 56.16554037561807, 4.410616112742472, 4.410619848144874, 4.410433222607533, 4.410923252364065, 4.410463959308902, 4.410505179008585, 4.410309909663893, 4.410507185387708, 4.411244398321896, 4.410192854838025, 4.410236979167356, 4.410571526759945, 4.410615697556555, 4.410556759545362, 4.410879834908824, 4.412579485542508, 4.410268934254173, 4.410820446924536, 4.413232900706274, 4.412117393140959, 4.412803805192198, 4.411635729130404, 4.411331669986154, 4.411324376951473, 4.411911230232225, 4.411455643354692, 8452.926318706572, 2152.0898327189448, 1880.075309165566, 1243.4803144648745, 1188.2195147866087, 855.7714575742917, 300.51393734385823, 4.410280847630617, 4.410630411772987, 4.410351234338015, 4.410338622156275, 4.410197875286133, 4.410539542868604, 4.410782047934839, 4.410571272335972, 4.410716288763526, 4.4103159228431466, 4.410436933414522, 4.410427677371908, 4.410496988731416, 4.410772081560422, 4.41015701630982, 4.41056817648899, 4.410356514525562, 4.41015299245556, 4.41015299245556, 4.410150739639662, 4.41023430970402, 4.410164152087146, 4.4101388005645585, 4.4103449761046685, 4.412579485542508, 4.411471163307505, 4.412202676482178, 4.411605932655783, 4.413830108147053, 4.411597384743127, 4.4123215599381576, 4.412944387907092, 4.412117393140959, 4.412442927490867, 5683.513592524689, 3765.4532534530226, 2382.4265263703983, 1704.968977874586, 1072.2902946214067, 428.29688159757313, 4.410567939473393, 4.412334271587019, 4.411153558811897, 4.411324376951473, 4.410323972546221, 4.410318835722935, 4.4101891413931975, 4.410197862840125, 4.410201474308906, 4.410821230156444, 4.410275376438059, 4.410388874515404, 4.410789510663184, 4.410923252364065, 4.410202740135681, 4.410796562839434, 4.410169695206009, 4.410182936533377, 4.410642555762758, 4.410676030624105, 4.4104659422368515, 4.410516380770042, 4.410158089041765, 4.411990039299676, 4.410653126063372, 4.41074700107141, 4.411266797395423, 4.413232900706274, 4.411479329626091, 4.412944387907092, 4.411018524788311, 4.413289693741402, 4.412117393140959, 4.41218557008661, 4.412258998318874, 4.411435743207641, 4.411583633975169, 10540.338410025868, 2841.6700778247573, 4.413232900706274, 4.411018524788311, 4.4123215599381576, 4.41114001859074, 4.410994297554946, 4.410585578548781, 4.4101628866591875, 4.4104441454591745, 4.41024824841867, 4.410453525660239, 4.410182911804393, 4.410183436296093, 4.410221498996487, 4.4104154010834815, 4.410235921946547, 4.410305115114605, 4.41031422427224, 4.410477748996389, 4.412803805192198, 4.4101569284032935, 4.4104232749968775, 4.410371482975479, 4.410147478552857, 4.411708955841278, 4.410222334517326, 4.410531931791003, 4.410204585867038, 4.410156052032379, 4.41022207119389, 4.410791608825979, 4.410757013542231, 4.4105447081378335, 4.410587455556185, 4.411479329626091, 4.412442927490867, 4.413311868940181, 4.412218703138428, 4.413830108147053, 4.411261548700008, 4.412202676482178, 4.410932140624932, 4.411524687844858, 1752.8912886986207, 1585.1308660749644, 1286.2974937638785, 712.3430908080069, 5.756511136370761, 4.410404338601639, 4.410631973630925, 4.410270470367243, 4.410250651869691, 4.410250651869691, 4.411153558811897, 4.410417900614358, 4.410433398806504, 4.410539542868604, 4.410298198460951, 4.410276367327311, 4.410301030125396, 4.410529728912847, 4.410538121208571, 4.4107382700947655, 4.410156487892359, 4.410156487892359, 4.410172820534308, 4.410152525059484, 4.410152547007993, 4.410154833530616, 4.410167898409123, 4.410216502690361, 4.410176241151522, 4.410151162300878, 4.410240639456062, 4.410677700994402, 4.411708955841278, 4.41069919467779, 4.410506641578687, 4.411070073598863, 4.411178553989656, 4.410615127851233, 4.4104876106753315, 1909.7814757966846, 761.8527989325281, 475.7538845085207, 61.28797878707822, 4.412202676482178, 4.410630411772987, 4.410288298752994, 4.410811879536653, 4.41019775075137, 4.41019837216188, 4.410201287095557, 4.41025997246271, 4.4103327484396955, 4.410364079452585, 4.410373992555165, 4.410512708668789, 4.410494708914243, 4.411244398321896, 4.410651591480244, 4.410391455846815, 4.4103159228431466, 4.41056817648899, 4.410861462791783, 4.411047058422899, 4.410138578837566, 4.410522194507432, 4.410134690955017, 4.410135905840408, 4.41013350606847, 4.410538121208571, 4.411757559277193, 4.4121081559943915, 4.4101682903465464, 4.411708955841278, 4.411524687844858, 1214.5459724849932, 1201.740403981002, 262.85845976498086, 4.410772081560422, 4.410335907225357, 4.410696506899881, 4.411178553989656, 4.4101851076631124, 4.410226756925135, 4.410635410059516, 4.410311225838151, 4.410653126063372, 4.411144423910275, 4.4107302851887855, 4.410459818755313, 4.410647330586101, 4.410152160481762, 4.410152449006205, 4.410141542506875, 4.410153025206103, 4.41036748530356, 4.410202383257668, 4.4102010293657745, 4.410262992186571, 4.41105736019809, 4.410235818310792, 4.410133144529032, 4.410133144529032, 4.410133144529032, 4.410138830606666, 4.410271424253618, 4.412354699964651, 4.410400847615428, 4.410409505600356, 4.410570517127271, 4.410572009863363, 4.413311868940181, 4.410821230156444, 4.410849116299049, 4.410831749914293, 4.411103389365043, 4.411244398321896, 689.7682885758932, 673.5441336639943, 312.2860293296718, 4.410616112742472, 4.410923252364065, 4.410382416297697, 4.4104659422368515, 4.410256213148166, 4.410208777889374, 4.410163842686679, 4.410835805010672, 4.410789510663184, 4.410144047524498, 4.410318305944758, 4.410166467653292, 4.410202416583514, 4.410294129810739, 4.41030235382238, 4.410138398165484, 4.410165055734317, 4.41056325095936, 4.410147787581668, 4.410350595997761, 4.410182254787968, 4.410248359789192, 4.410156059106048, 4.410145741662161, 4.410146910904867, 4.410207567090446, 4.410144179321643, 4.410957082897311, 4.411083285064432, 4.410508343180607, 4.410969288403342, 4.412803805192198, 4.411605932655783, 4.41218557008661, 4.411435743207641, 1177.9403680733997, 760.658171698751, 4.410135446712822, 4.410135446712822, 4.410208072405441, 4.410134864086724, 4.410438991288423, 4.410279662508077, 4.410274381905172, 4.410155729072819, 4.410155729072819, 4.410427677371908, 4.410147806188024, 4.410150967144011, 4.410271331209797, 4.410419468225853, 4.410306755306253, 4.410313925952117, 4.410346439182553, 4.410367899496534, 4.410273959471552, 4.410282156912401, 4.410283674411711, 4.410397115143986, 4.410309909663893, 4.410605094126818, 4.410166467653292, 4.410396898955892, 4.410417025327089, 4.410676679702933, 4.410721487712271, 4.410772081560422, 4.410810754293717, 4.412442927490867, 4.411708955841278, 4.41218557008661, 4.410575409180546, 4.412944387907092, 4.411605932655783, 4.413232900706274], \"Category\": [\"Default\", \"Default\", \"Default\", \"Default\", \"Default\", \"Default\", \"Default\", \"Default\", \"Default\", \"Default\", \"Default\", \"Default\", \"Default\", \"Default\", \"Default\", \"Default\", \"Default\", \"Default\", \"Default\", \"Default\", \"Default\", \"Default\", \"Default\", \"Default\", \"Default\", \"Default\", \"Default\", \"Default\", \"Default\", \"Default\", \"Topic1\", \"Topic1\", \"Topic1\", \"Topic1\", \"Topic1\", \"Topic1\", \"Topic1\", \"Topic1\", \"Topic1\", \"Topic1\", \"Topic1\", \"Topic1\", \"Topic1\", \"Topic1\", \"Topic1\", \"Topic1\", \"Topic1\", \"Topic1\", \"Topic1\", \"Topic1\", \"Topic1\", \"Topic1\", \"Topic1\", \"Topic1\", \"Topic1\", \"Topic1\", \"Topic1\", \"Topic1\", \"Topic1\", \"Topic1\", \"Topic1\", \"Topic1\", \"Topic2\", \"Topic2\", \"Topic2\", \"Topic2\", \"Topic2\", \"Topic2\", \"Topic2\", \"Topic2\", \"Topic2\", \"Topic2\", \"Topic2\", \"Topic2\", \"Topic2\", \"Topic2\", \"Topic2\", \"Topic2\", \"Topic2\", \"Topic2\", \"Topic2\", \"Topic2\", \"Topic2\", \"Topic2\", \"Topic2\", \"Topic2\", \"Topic2\", \"Topic2\", \"Topic2\", \"Topic2\", \"Topic2\", \"Topic2\", \"Topic2\", \"Topic2\", \"Topic2\", \"Topic2\", \"Topic3\", \"Topic3\", \"Topic3\", \"Topic3\", \"Topic3\", \"Topic3\", \"Topic3\", \"Topic3\", \"Topic3\", \"Topic3\", \"Topic3\", \"Topic3\", \"Topic3\", \"Topic3\", \"Topic3\", \"Topic3\", \"Topic3\", \"Topic3\", \"Topic3\", \"Topic3\", \"Topic3\", \"Topic3\", \"Topic3\", \"Topic3\", \"Topic3\", \"Topic3\", \"Topic3\", \"Topic3\", \"Topic3\", \"Topic3\", \"Topic3\", \"Topic3\", \"Topic3\", \"Topic3\", \"Topic3\", \"Topic3\", \"Topic3\", \"Topic3\", \"Topic4\", \"Topic4\", \"Topic4\", \"Topic4\", \"Topic4\", \"Topic4\", \"Topic4\", \"Topic4\", \"Topic4\", \"Topic4\", \"Topic4\", \"Topic4\", \"Topic4\", \"Topic4\", \"Topic4\", \"Topic4\", \"Topic4\", \"Topic4\", \"Topic4\", \"Topic4\", \"Topic4\", \"Topic4\", \"Topic4\", \"Topic4\", \"Topic4\", \"Topic4\", \"Topic4\", \"Topic4\", \"Topic4\", \"Topic4\", \"Topic4\", \"Topic4\", \"Topic4\", \"Topic5\", \"Topic5\", \"Topic5\", \"Topic5\", \"Topic5\", \"Topic5\", \"Topic5\", \"Topic5\", \"Topic5\", \"Topic5\", \"Topic5\", \"Topic5\", \"Topic5\", \"Topic5\", \"Topic5\", \"Topic5\", \"Topic5\", \"Topic5\", \"Topic5\", \"Topic5\", \"Topic5\", \"Topic5\", \"Topic5\", \"Topic5\", \"Topic5\", \"Topic5\", \"Topic5\", \"Topic5\", \"Topic5\", \"Topic5\", \"Topic5\", \"Topic5\", \"Topic5\", \"Topic5\", \"Topic5\", \"Topic5\", \"Topic5\", \"Topic5\", \"Topic5\", \"Topic5\", \"Topic5\", \"Topic5\", \"Topic5\", \"Topic5\", \"Topic5\", \"Topic6\", \"Topic6\", \"Topic6\", \"Topic6\", \"Topic6\", \"Topic6\", \"Topic6\", \"Topic6\", \"Topic6\", \"Topic6\", \"Topic6\", \"Topic6\", \"Topic6\", \"Topic6\", \"Topic6\", \"Topic6\", \"Topic6\", \"Topic6\", \"Topic6\", \"Topic6\", \"Topic6\", \"Topic6\", \"Topic6\", \"Topic6\", \"Topic6\", \"Topic6\", \"Topic6\", \"Topic6\", \"Topic6\", \"Topic6\", \"Topic6\", \"Topic6\", \"Topic6\", \"Topic6\", \"Topic6\", \"Topic6\", \"Topic6\", \"Topic6\", \"Topic6\", \"Topic6\", \"Topic6\", \"Topic6\", \"Topic7\", \"Topic7\", \"Topic7\", \"Topic7\", \"Topic7\", \"Topic7\", \"Topic7\", \"Topic7\", \"Topic7\", \"Topic7\", \"Topic7\", \"Topic7\", \"Topic7\", \"Topic7\", \"Topic7\", \"Topic7\", \"Topic7\", \"Topic7\", \"Topic7\", \"Topic7\", \"Topic7\", \"Topic7\", \"Topic7\", \"Topic7\", \"Topic7\", \"Topic7\", \"Topic7\", \"Topic7\", \"Topic7\", \"Topic7\", \"Topic7\", \"Topic7\", \"Topic7\", \"Topic7\", \"Topic7\", \"Topic7\", \"Topic7\", \"Topic7\", \"Topic7\", \"Topic7\", \"Topic7\", \"Topic7\", \"Topic7\", \"Topic8\", \"Topic8\", \"Topic8\", \"Topic8\", \"Topic8\", \"Topic8\", \"Topic8\", \"Topic8\", \"Topic8\", \"Topic8\", \"Topic8\", \"Topic8\", \"Topic8\", \"Topic8\", \"Topic8\", \"Topic8\", \"Topic8\", \"Topic8\", \"Topic8\", \"Topic8\", \"Topic8\", \"Topic8\", \"Topic8\", \"Topic8\", \"Topic8\", \"Topic8\", \"Topic8\", \"Topic8\", \"Topic8\", \"Topic8\", \"Topic8\", \"Topic8\", \"Topic8\", \"Topic8\", \"Topic8\", \"Topic8\", \"Topic8\", \"Topic8\", \"Topic8\", \"Topic8\", \"Topic8\", \"Topic8\", \"Topic8\", \"Topic8\", \"Topic8\", \"Topic9\", \"Topic9\", \"Topic9\", \"Topic9\", \"Topic9\", \"Topic9\", \"Topic9\", \"Topic9\", \"Topic9\", \"Topic9\", \"Topic9\", \"Topic9\", \"Topic9\", \"Topic9\", \"Topic9\", \"Topic9\", \"Topic9\", \"Topic9\", \"Topic9\", \"Topic9\", \"Topic9\", \"Topic9\", \"Topic9\", \"Topic9\", \"Topic9\", \"Topic9\", \"Topic9\", \"Topic9\", \"Topic9\", \"Topic9\", \"Topic9\", \"Topic9\", \"Topic9\", \"Topic9\", \"Topic9\", \"Topic9\", \"Topic9\", \"Topic9\", \"Topic9\", \"Topic9\", \"Topic9\", \"Topic10\", \"Topic10\", \"Topic10\", \"Topic10\", \"Topic10\", \"Topic10\", \"Topic10\", \"Topic10\", \"Topic10\", \"Topic10\", \"Topic10\", \"Topic10\", \"Topic10\", \"Topic10\", \"Topic10\", \"Topic10\", \"Topic10\", \"Topic10\", \"Topic10\", \"Topic10\", \"Topic10\", \"Topic10\", \"Topic10\", \"Topic10\", \"Topic10\", \"Topic10\", \"Topic10\", \"Topic10\", \"Topic10\", \"Topic10\", \"Topic10\", \"Topic10\", \"Topic10\", \"Topic10\", \"Topic10\", \"Topic10\", \"Topic10\", \"Topic10\", \"Topic10\", \"Topic10\", \"Topic10\", \"Topic10\", \"Topic10\", \"Topic11\", \"Topic11\", \"Topic11\", \"Topic11\", \"Topic11\", \"Topic11\", \"Topic11\", \"Topic11\", \"Topic11\", \"Topic11\", \"Topic11\", \"Topic11\", \"Topic11\", \"Topic11\", \"Topic11\", \"Topic11\", \"Topic11\", \"Topic11\", \"Topic11\", \"Topic11\", \"Topic11\", \"Topic11\", \"Topic11\", \"Topic11\", \"Topic11\", \"Topic11\", \"Topic11\", \"Topic11\", \"Topic11\", \"Topic11\", \"Topic11\", \"Topic11\", \"Topic11\", \"Topic11\", \"Topic11\", \"Topic11\", \"Topic11\", \"Topic11\", \"Topic11\", \"Topic11\", \"Topic11\", \"Topic11\", \"Topic11\", \"Topic11\", \"Topic11\", \"Topic12\", \"Topic12\", \"Topic12\", \"Topic12\", \"Topic12\", \"Topic12\", \"Topic12\", \"Topic12\", \"Topic12\", \"Topic12\", \"Topic12\", \"Topic12\", \"Topic12\", \"Topic12\", \"Topic12\", \"Topic12\", \"Topic12\", \"Topic12\", \"Topic12\", \"Topic12\", \"Topic12\", \"Topic12\", \"Topic12\", \"Topic12\", \"Topic12\", \"Topic12\", \"Topic12\", \"Topic12\", \"Topic12\", \"Topic12\", \"Topic12\", \"Topic12\", \"Topic12\", \"Topic12\", \"Topic12\", \"Topic12\", \"Topic12\", \"Topic12\", \"Topic13\", \"Topic13\", \"Topic13\", \"Topic13\", \"Topic13\", \"Topic13\", \"Topic13\", \"Topic13\", \"Topic13\", \"Topic13\", \"Topic13\", \"Topic13\", \"Topic13\", \"Topic13\", \"Topic13\", \"Topic13\", \"Topic13\", \"Topic13\", \"Topic13\", \"Topic13\", \"Topic13\", \"Topic13\", \"Topic13\", \"Topic13\", \"Topic13\", \"Topic13\", \"Topic13\", \"Topic13\", \"Topic13\", \"Topic13\", \"Topic13\", \"Topic13\", \"Topic13\", \"Topic13\", \"Topic13\", \"Topic13\", \"Topic13\", \"Topic13\", \"Topic13\", \"Topic13\", \"Topic13\", \"Topic14\", \"Topic14\", \"Topic14\", \"Topic14\", \"Topic14\", \"Topic14\", \"Topic14\", \"Topic14\", \"Topic14\", \"Topic14\", \"Topic14\", \"Topic14\", \"Topic14\", \"Topic14\", \"Topic14\", \"Topic14\", \"Topic14\", \"Topic14\", \"Topic14\", \"Topic14\", \"Topic14\", \"Topic14\", \"Topic14\", \"Topic14\", \"Topic14\", \"Topic14\", \"Topic14\", \"Topic14\", \"Topic14\", \"Topic14\", \"Topic14\", \"Topic14\", \"Topic14\", \"Topic14\", \"Topic14\", \"Topic14\", \"Topic14\", \"Topic14\", \"Topic14\", \"Topic14\", \"Topic14\", \"Topic14\", \"Topic14\", \"Topic15\", \"Topic15\", \"Topic15\", \"Topic15\", \"Topic15\", \"Topic15\", \"Topic15\", \"Topic15\", \"Topic15\", \"Topic15\", \"Topic15\", \"Topic15\", \"Topic15\", \"Topic15\", \"Topic15\", \"Topic15\", \"Topic15\", \"Topic15\", \"Topic15\", \"Topic15\", \"Topic15\", \"Topic15\", \"Topic15\", \"Topic15\", \"Topic15\", \"Topic15\", \"Topic15\", \"Topic15\", \"Topic15\", \"Topic15\", \"Topic15\", \"Topic15\", \"Topic15\", \"Topic15\", \"Topic15\", \"Topic15\", \"Topic15\", \"Topic15\", \"Topic15\", \"Topic15\", \"Topic15\", \"Topic15\", \"Topic15\", \"Topic15\", \"Topic16\", \"Topic16\", \"Topic16\", \"Topic16\", \"Topic16\", \"Topic16\", \"Topic16\", \"Topic16\", \"Topic16\", \"Topic16\", \"Topic16\", \"Topic16\", \"Topic16\", \"Topic16\", \"Topic16\", \"Topic16\", \"Topic16\", \"Topic16\", \"Topic16\", \"Topic16\", \"Topic16\", \"Topic16\", \"Topic16\", \"Topic16\", \"Topic16\", \"Topic16\", \"Topic16\", \"Topic16\", \"Topic16\", \"Topic16\", \"Topic16\", \"Topic16\", \"Topic16\", \"Topic16\", \"Topic16\", \"Topic16\", \"Topic16\", \"Topic16\", \"Topic16\", \"Topic17\", \"Topic17\", \"Topic17\", \"Topic17\", \"Topic17\", \"Topic17\", \"Topic17\", \"Topic17\", \"Topic17\", \"Topic17\", \"Topic17\", \"Topic17\", \"Topic17\", \"Topic17\", \"Topic17\", \"Topic17\", \"Topic17\", \"Topic17\", \"Topic17\", \"Topic17\", \"Topic17\", \"Topic17\", \"Topic17\", \"Topic17\", \"Topic17\", \"Topic17\", \"Topic17\", \"Topic17\", \"Topic17\", \"Topic17\", \"Topic17\", \"Topic17\", \"Topic17\", \"Topic17\", \"Topic17\", \"Topic18\", \"Topic18\", \"Topic18\", \"Topic18\", \"Topic18\", \"Topic18\", \"Topic18\", \"Topic18\", \"Topic18\", \"Topic18\", \"Topic18\", \"Topic18\", \"Topic18\", \"Topic18\", \"Topic18\", \"Topic18\", \"Topic18\", \"Topic18\", \"Topic18\", \"Topic18\", \"Topic18\", \"Topic18\", \"Topic18\", \"Topic18\", \"Topic18\", \"Topic18\", \"Topic18\", \"Topic18\", \"Topic18\", \"Topic18\", \"Topic18\", \"Topic18\", \"Topic18\", \"Topic18\", \"Topic18\", \"Topic18\", \"Topic18\", \"Topic18\", \"Topic18\", \"Topic18\", \"Topic18\", \"Topic18\", \"Topic19\", \"Topic19\", \"Topic19\", \"Topic19\", \"Topic19\", \"Topic19\", \"Topic19\", \"Topic19\", \"Topic19\", \"Topic19\", \"Topic19\", \"Topic19\", \"Topic19\", \"Topic19\", \"Topic19\", \"Topic19\", \"Topic19\", \"Topic19\", \"Topic19\", \"Topic19\", \"Topic19\", \"Topic19\", \"Topic19\", \"Topic19\", \"Topic19\", \"Topic19\", \"Topic19\", \"Topic19\", \"Topic19\", \"Topic19\", \"Topic19\", \"Topic19\", \"Topic19\", \"Topic19\", \"Topic19\", \"Topic19\", \"Topic19\", \"Topic19\", \"Topic20\", \"Topic20\", \"Topic20\", \"Topic20\", \"Topic20\", \"Topic20\", \"Topic20\", \"Topic20\", \"Topic20\", \"Topic20\", \"Topic20\", \"Topic20\", \"Topic20\", \"Topic20\", \"Topic20\", \"Topic20\", \"Topic20\", \"Topic20\", \"Topic20\", \"Topic20\", \"Topic20\", \"Topic20\", \"Topic20\", \"Topic20\", \"Topic20\", \"Topic20\", \"Topic20\", \"Topic20\", \"Topic20\", \"Topic20\", \"Topic20\", \"Topic20\", \"Topic20\", \"Topic20\", \"Topic20\", \"Topic20\", \"Topic20\", \"Topic20\", \"Topic20\", \"Topic20\"], \"logprob\": [30.0, 29.0, 28.0, 27.0, 26.0, 25.0, 24.0, 23.0, 22.0, 21.0, 20.0, 19.0, 18.0, 17.0, 16.0, 15.0, 14.0, 13.0, 12.0, 11.0, 10.0, 9.0, 8.0, 7.0, 6.0, 5.0, 4.0, 3.0, 2.0, 1.0, -1.3729, -1.6972, -1.9223, -2.1887, -3.0375, -3.108, -3.1697, -3.5994, -4.7579, -4.7711, -5.823, -5.8501, -12.3344, -12.3348, -12.3354, -12.3353, -12.3351, -12.3353, -12.3353, -12.3356, -12.3354, -12.3357, -12.3357, -12.336, -12.3361, -12.336, -12.336, -12.3359, -12.3361, -12.336, -12.3359, -12.336, -0.6996, -1.8802, -2.0086, -2.5272, -12.207, -12.2069, -12.2074, -12.2078, -12.2075, -12.2077, -12.2077, -12.2076, -12.2079, -12.208, -12.2081, -12.2083, -12.2081, -12.2081, -12.2081, -12.2083, -12.2079, -12.2081, -12.2081, -12.2082, -12.2083, -12.2085, -12.2085, -12.2084, -12.2084, -12.2083, -12.2083, -12.2084, -12.2083, -12.2084, -0.2033, -2.9168, -5.3809, -12.2935, -12.2943, -12.2944, -12.2947, -12.2948, -12.2949, -12.2948, -12.295, -12.2951, -12.2951, -12.2951, -12.2953, -12.2947, -12.2952, -12.2953, -12.2951, -12.2954, -12.295, -12.2952, -12.2954, -12.2948, -12.2947, -12.2954, -12.2955, -12.2954, -12.2954, -12.2951, -12.2951, -12.2949, -12.2951, -12.2951, -12.2952, -12.2953, -12.2952, -12.2952, -1.3505, -1.6763, -1.7657, -2.498, -3.1167, -3.8745, -4.1476, -4.2744, -4.3194, -4.3369, -4.4186, -5.1022, -12.0416, -12.0422, -12.0424, -12.0422, -12.0424, -12.0427, -12.0424, -12.0424, -12.0428, -12.0423, -12.0428, -12.0431, -12.0428, -12.0428, -12.0432, -12.0428, -12.0428, -12.0427, -12.0426, -12.0427, -12.0428, -1.6911, -1.972, -2.2597, -2.3207, -2.4454, -2.5211, -2.7633, -4.0931, -5.1975, -11.7247, -11.7247, -11.7246, -11.7246, -11.7247, -11.7248, -11.7251, -11.7244, -11.725, -11.7252, -11.7253, -11.7254, -11.7254, -11.7254, -11.7251, -11.7249, -11.7254, -11.7254, -11.7255, -11.7254, -11.7255, -11.7254, -11.725, -11.7253, -11.7253, -11.7251, -11.7249, -11.7249, -11.7252, -11.7252, -11.7253, -11.7252, -11.7251, -11.7252, -11.7252, -11.7252, -0.5139, -2.1932, -2.2447, -11.9073, -11.9091, -11.9093, -11.9092, -11.9094, -11.9087, -11.9094, -11.9094, -11.9091, -11.9093, -11.9092, -11.9091, -11.9094, -11.909, -11.9093, -11.9095, -11.9094, -11.9095, -11.9095, -11.9096, -11.9096, -11.9096, -11.9095, -11.9095, -11.9096, -11.9096, -11.9096, -11.9095, -11.9093, -11.9092, -11.9095, -11.9093, -11.9094, -11.9094, -11.9094, -11.9092, -11.9094, -11.9094, -11.9094, -0.9973, -1.4811, -2.6614, -2.9982, -3.1777, -4.7634, -11.6712, -11.6715, -11.6711, -11.6715, -11.6715, -11.6716, -11.6713, -11.6716, -11.6715, -11.6715, -11.6716, -11.6717, -11.6717, -11.6717, -11.6718, -11.6718, -11.6718, -11.6718, -11.6714, -11.6717, -11.6718, -11.6718, -11.6716, -11.6718, -11.6713, -11.6713, -11.6717, -11.6716, -11.6716, -11.6714, -11.6717, -11.6715, -11.6716, -11.6716, -11.6715, -11.6717, -11.6716, -0.896, -2.635, -2.7677, -2.8307, -2.8829, -3.0654, -3.5707, -3.5823, -4.1029, -11.7172, -11.7171, -11.7174, -11.7174, -11.7177, -11.7178, -11.7176, -11.7177, -11.7179, -11.7177, -11.7179, -11.7179, -11.7179, -11.7179, -11.7179, -11.7179, -11.7179, -11.7179, -11.7178, -11.7179, -11.7179, -11.7177, -11.7176, -11.7176, -11.7177, -11.7174, -11.7176, -11.7175, -11.7177, -11.7176, -11.7178, -11.7177, -11.7176, -11.7177, -11.7177, -11.7177, -1.1031, -1.5233, -1.7416, -3.8832, -4.2081, -5.7506, -11.6608, -11.6606, -11.6609, -11.661, -11.6611, -11.6611, -11.661, -11.661, -11.6611, -11.6611, -11.6611, -11.6612, -11.6611, -11.661, -11.661, -11.6612, -11.6611, -11.6612, -11.6611, -11.6612, -11.6611, -11.6612, -11.6612, -11.6612, -11.6611, -11.6609, -11.661, -11.6611, -11.661, -11.661, -11.6609, -11.6611, -11.6611, -11.6611, -11.6611, -1.4424, -2.1911, -2.3087, -2.6045, -2.6098, -2.6144, -2.6697, -3.7633, -11.6481, -11.6483, -11.6484, -11.648, -11.6485, -11.6486, -11.6484, -11.6485, -11.6486, -11.6485, -11.6485, -11.6485, -11.6486, -11.6485, -11.6486, -11.6486, -11.6486, -11.6485, -11.6486, -11.6486, -11.6479, -11.6485, -11.6479, -11.6485, -11.6482, -11.6484, -11.6484, -11.6484, -11.6484, -11.6484, -11.6484, -11.6485, -11.6485, -11.6485, -11.6485, -1.6475, -1.7847, -1.9606, -2.7743, -2.9821, -3.2395, -3.7023, -4.0278, -11.408, -11.4083, -11.4085, -11.4081, -11.4086, -11.4086, -11.4087, -11.4087, -11.4087, -11.4087, -11.4087, -11.4087, -11.4087, -11.4088, -11.4088, -11.4088, -11.4088, -11.4088, -11.4085, -11.4088, -11.4088, -11.4088, -11.4085, -11.4087, -11.4086, -11.4085, -11.4086, -11.4087, -11.4086, -11.4085, -11.4083, -11.4085, -11.4086, -11.4086, -11.4086, -11.4087, -11.4087, -1.444, -1.9576, -2.4324, -2.5312, -2.8045, -2.8405, -3.9948, -4.1063, -4.6666, -4.9418, -5.5271, -6.0909, -11.4949, -11.4951, -11.4952, -11.495, -11.4952, -11.4952, -11.4953, -11.4952, -11.4951, -11.4953, -11.4953, -11.4952, -11.4953, -11.4953, -11.4952, -11.4948, -11.4954, -11.4952, -11.4948, -11.4951, -11.4951, -11.4952, -11.4952, -11.4952, -11.4952, -11.4952, -0.9895, -2.359, -2.4944, -2.9089, -2.9546, -3.2841, -4.3397, -11.4423, -11.4423, -11.4424, -11.4424, -11.4424, -11.4424, -11.4424, -11.4424, -11.4424, -11.4425, -11.4425, -11.4425, -11.4425, -11.4424, -11.4426, -11.4425, -11.4425, -11.4426, -11.4426, -11.4426, -11.4426, -11.4426, -11.4426, -11.4426, -11.4421, -11.4424, -11.4422, -11.4424, -11.4421, -11.4424, -11.4424, -11.4424, -11.4425, -11.4425, -1.3189, -1.731, -2.1894, -2.5246, -2.9898, -3.9135, -11.4452, -11.4449, -11.4452, -11.4453, -11.4455, -11.4455, -11.4456, -11.4456, -11.4456, -11.4455, -11.4456, -11.4456, -11.4455, -11.4455, -11.4457, -11.4455, -11.4457, -11.4457, -11.4456, -11.4456, -11.4456, -11.4456, -11.4457, -11.4453, -11.4456, -11.4456, -11.4455, -11.4452, -11.4455, -11.4453, -11.4456, -11.4454, -11.4455, -11.4455, -11.4455, -11.4456, -11.4456, -0.6263, -1.9382, -11.3521, -11.353, -11.3528, -11.353, -11.3531, -11.3533, -11.3535, -11.3534, -11.3534, -11.3534, -11.3535, -11.3535, -11.3535, -11.3534, -11.3535, -11.3535, -11.3535, -11.3534, -11.3529, -11.3535, -11.3535, -11.3535, -11.3535, -11.3532, -11.3535, -11.3534, -11.3535, -11.3535, -11.3535, -11.3534, -11.3534, -11.3534, -11.3535, -11.3534, -11.3533, -11.3532, -11.3533, -11.3532, -11.3534, -11.3534, -11.3534, -11.3534, -1.9112, -2.0121, -2.2216, -2.8152, -8.9181, -10.8158, -10.8159, -10.8163, -10.8163, -10.8163, -10.8161, -10.8163, -10.8163, -10.8163, -10.8163, -10.8164, -10.8164, -10.8163, -10.8164, -10.8164, -10.8165, -10.8165, -10.8165, -10.8165, -10.8165, -10.8165, -10.8165, -10.8165, -10.8165, -10.8165, -10.8165, -10.8164, -10.8163, -10.8165, -10.8165, -10.8165, -10.8165, -10.8165, -10.8165, -1.2809, -2.2033, -2.6775, -4.7901, -10.8425, -10.8437, -10.844, -10.844, -10.8442, -10.8442, -10.8442, -10.8443, -10.8442, -10.8443, -10.8443, -10.8442, -10.8443, -10.8441, -10.8442, -10.8443, -10.8443, -10.8443, -10.8443, -10.8443, -10.8445, -10.8444, -10.8445, -10.8445, -10.8445, -10.8444, -10.8443, -10.8442, -10.8445, -10.8445, -10.8445, -1.6579, -1.6685, -3.2013, -10.762, -10.7625, -10.7624, -10.7623, -10.7626, -10.7626, -10.7625, -10.7626, -10.7626, -10.7625, -10.7626, -10.7627, -10.7627, -10.7628, -10.7628, -10.7628, -10.7628, -10.7628, -10.7628, -10.7628, -10.7628, -10.7627, -10.7629, -10.7629, -10.7629, -10.7629, -10.7629, -10.7629, -10.7625, -10.7628, -10.7628, -10.7628, -10.7628, -10.7628, -10.7628, -10.7628, -10.7628, -10.7628, -10.7628, -2.1021, -2.1261, -2.9021, -10.5694, -10.5694, -10.5699, -10.5699, -10.57, -10.57, -10.5701, -10.5699, -10.5699, -10.5701, -10.57, -10.5701, -10.5701, -10.5701, -10.5701, -10.5701, -10.5701, -10.57, -10.5701, -10.5701, -10.5701, -10.5701, -10.5702, -10.5702, -10.5702, -10.5702, -10.5702, -10.57, -10.5701, -10.5701, -10.5701, -10.57, -10.5701, -10.5701, -10.5701, -1.4525, -1.8919, -10.7043, -10.7043, -10.7043, -10.7043, -10.7042, -10.7043, -10.7043, -10.7043, -10.7043, -10.7043, -10.7043, -10.7043, -10.7043, -10.7043, -10.7043, -10.7043, -10.7043, -10.7043, -10.7043, -10.7043, -10.7043, -10.7043, -10.7043, -10.7043, -10.7044, -10.7043, -10.7043, -10.7043, -10.7043, -10.7043, -10.7043, -10.7041, -10.7043, -10.7043, -10.7043, -10.7043, -10.7043, -10.7043], \"loglift\": [30.0, 29.0, 28.0, 27.0, 26.0, 25.0, 24.0, 23.0, 22.0, 21.0, 20.0, 19.0, 18.0, 17.0, 16.0, 15.0, 14.0, 13.0, 12.0, 11.0, 10.0, 9.0, 8.0, 7.0, 6.0, 5.0, 4.0, 3.0, 2.0, 1.0, 2.1795, 2.1794, 2.1793, 2.1791, 2.1783, 2.1782, 2.1781, 2.1772, 2.1717, 2.1716, 2.1567, 2.1561, -0.634, -0.6342, -0.6345, -0.6345, -0.6345, -0.6346, -0.6348, -0.6348, -0.6349, -0.6349, -0.635, -0.6351, -0.6351, -0.6351, -0.6352, -0.6352, -0.6352, -0.6352, -0.6352, -0.6353, 2.2261, 2.2258, 2.2258, 2.2254, -0.5064, -0.5065, -0.5067, -0.5069, -0.507, -0.507, -0.5071, -0.5071, -0.5071, -0.5072, -0.5073, -0.5073, -0.5073, -0.5073, -0.5073, -0.5074, -0.5074, -0.5074, -0.5074, -0.5074, -0.5074, -0.5074, -0.5074, -0.5074, -0.5074, -0.5075, -0.5075, -0.5075, -0.5075, -0.5075, 2.3696, 2.3682, 2.3516, -0.5929, -0.5934, -0.5936, -0.5938, -0.5938, -0.5938, -0.594, -0.594, -0.594, -0.5941, -0.5941, -0.5941, -0.5942, -0.5942, -0.5942, -0.5942, -0.5942, -0.5943, -0.5943, -0.5943, -0.5943, -0.5943, -0.5943, -0.5943, -0.5943, -0.5943, -0.5943, -0.5943, -0.5944, -0.5944, -0.5944, -0.5944, -0.5944, -0.5945, -0.5945, 2.4555, 2.4553, 2.4553, 2.4547, 2.4538, 2.4515, 2.4501, 2.4493, 2.449, 2.4489, 2.4483, 2.441, -0.3406, -0.3413, -0.3414, -0.3415, -0.3415, -0.3416, -0.3417, -0.3419, -0.3419, -0.3419, -0.342, -0.342, -0.342, -0.342, -0.342, -0.3421, -0.3421, -0.3421, -0.3421, -0.3421, -0.3421, 2.7794, 2.7792, 2.7789, 2.7788, 2.7786, 2.7785, 2.7781, 2.7726, 2.7576, -0.0235, -0.0235, -0.0236, -0.0236, -0.0238, -0.0239, -0.024, -0.024, -0.0241, -0.0241, -0.0242, -0.0242, -0.0242, -0.0242, -0.0242, -0.0242, -0.0242, -0.0242, -0.0242, -0.0242, -0.0242, -0.0242, -0.0243, -0.0242, -0.0243, -0.0243, -0.0244, -0.0244, -0.0243, -0.0244, -0.0243, -0.0244, -0.0246, -0.0245, -0.0246, -0.0245, 2.8073, 2.8063, 2.8063, -0.2068, -0.2081, -0.2081, -0.2082, -0.2082, -0.2082, -0.2082, -0.2082, -0.2082, -0.2082, -0.2083, -0.2083, -0.2083, -0.2083, -0.2083, -0.2083, -0.2083, -0.2083, -0.2084, -0.2084, -0.2084, -0.2084, -0.2084, -0.2084, -0.2084, -0.2084, -0.2084, -0.2084, -0.2084, -0.2084, -0.2084, -0.2084, -0.2084, -0.2084, -0.2085, -0.2088, -0.2086, -0.2086, -0.2085, 2.9328, 2.9325, 2.9311, 2.9303, 2.9297, 2.9161, 0.0299, 0.0297, 0.0297, 0.0296, 0.0296, 0.0296, 0.0296, 0.0296, 0.0296, 0.0295, 0.0295, 0.0295, 0.0295, 0.0295, 0.0294, 0.0294, 0.0294, 0.0294, 0.0294, 0.0294, 0.0294, 0.0294, 0.0294, 0.0294, 0.0294, 0.0293, 0.0294, 0.0294, 0.0294, 0.0292, 0.0294, 0.0292, 0.0292, 0.0292, 0.029, 0.0293, 0.0291, 2.9555, 2.9538, 2.9535, 2.9534, 2.9532, 2.9527, 2.9506, 2.9505, 2.9468, -0.0162, -0.0162, -0.0162, -0.0164, -0.0166, -0.0166, -0.0166, -0.0166, -0.0166, -0.0166, -0.0166, -0.0166, -0.0167, -0.0167, -0.0167, -0.0167, -0.0167, -0.0167, -0.0167, -0.0167, -0.0167, -0.0167, -0.0167, -0.0168, -0.0168, -0.017, -0.0169, -0.017, -0.0168, -0.0169, -0.0167, -0.0169, -0.0171, -0.017, -0.0169, -0.017, 3.0115, 3.0112, 3.011, 3.0042, 3.0013, 2.9629, 0.0403, 0.0403, 0.0402, 0.0401, 0.0401, 0.0401, 0.0401, 0.0401, 0.0401, 0.0401, 0.0401, 0.0401, 0.04, 0.04, 0.04, 0.04, 0.04, 0.04, 0.04, 0.04, 0.04, 0.04, 0.04, 0.04, 0.04, 0.04, 0.04, 0.04, 0.0399, 0.0399, 0.0396, 0.0397, 0.0397, 0.0396, 0.0396, 3.0399, 3.0391, 3.0389, 3.0384, 3.0384, 3.0383, 3.0382, 3.0335, 0.053, 0.0528, 0.0528, 0.0528, 0.0527, 0.0527, 0.0527, 0.0526, 0.0526, 0.0526, 0.0526, 0.0526, 0.0526, 0.0526, 0.0526, 0.0526, 0.0526, 0.0526, 0.0526, 0.0526, 0.0526, 0.0526, 0.0525, 0.0526, 0.0525, 0.0525, 0.0524, 0.0524, 0.0523, 0.0523, 0.0523, 0.0524, 0.0525, 0.0524, 0.0523, 3.0929, 3.0928, 3.0926, 3.0911, 3.0904, 3.0895, 3.0869, 3.0842, 0.2928, 0.2927, 0.2927, 0.2926, 0.2926, 0.2926, 0.2925, 0.2925, 0.2925, 0.2925, 0.2925, 0.2924, 0.2924, 0.2924, 0.2924, 0.2924, 0.2924, 0.2924, 0.2924, 0.2924, 0.2924, 0.2924, 0.2924, 0.2924, 0.2924, 0.2924, 0.2924, 0.2924, 0.2923, 0.2923, 0.2922, 0.2921, 0.2923, 0.2923, 0.2921, 0.2921, 0.2921, 3.1425, 3.142, 3.1412, 3.141, 3.1403, 3.1401, 3.1334, 3.1323, 3.1241, 3.1181, 3.0986, 3.066, 0.2063, 0.206, 0.206, 0.206, 0.206, 0.2059, 0.2059, 0.2059, 0.2059, 0.2059, 0.2059, 0.2059, 0.2059, 0.2059, 0.2059, 0.2059, 0.2058, 0.2058, 0.2058, 0.2057, 0.2056, 0.2057, 0.2058, 0.2057, 0.2056, 0.2057, 3.1534, 3.1519, 3.1517, 3.1505, 3.1504, 3.149, 3.1399, 0.2589, 0.2589, 0.2588, 0.2588, 0.2588, 0.2587, 0.2587, 0.2587, 0.2587, 0.2587, 0.2587, 0.2587, 0.2587, 0.2587, 0.2587, 0.2587, 0.2587, 0.2587, 0.2587, 0.2586, 0.2586, 0.2586, 0.2586, 0.2586, 0.2586, 0.2586, 0.2586, 0.2585, 0.2583, 0.2585, 0.2583, 0.2582, 0.2583, 0.2582, 3.2209, 3.2206, 3.2199, 3.2192, 3.2178, 3.2118, 0.2559, 0.2558, 0.2558, 0.2557, 0.2557, 0.2557, 0.2556, 0.2556, 0.2556, 0.2556, 0.2556, 0.2556, 0.2556, 0.2556, 0.2556, 0.2556, 0.2556, 0.2556, 0.2555, 0.2555, 0.2555, 0.2555, 0.2555, 0.2555, 0.2555, 0.2555, 0.2555, 0.2553, 0.2554, 0.2553, 0.2555, 0.2551, 0.2553, 0.2553, 0.2552, 0.2554, 0.2554, 3.2959, 3.2948, 0.3484, 0.348, 0.348, 0.348, 0.3479, 0.3478, 0.3478, 0.3478, 0.3478, 0.3478, 0.3478, 0.3478, 0.3478, 0.3478, 0.3478, 0.3477, 0.3477, 0.3477, 0.3477, 0.3477, 0.3477, 0.3477, 0.3477, 0.3477, 0.3477, 0.3477, 0.3477, 0.3477, 0.3477, 0.3477, 0.3477, 0.3477, 0.3477, 0.3476, 0.3475, 0.3473, 0.3475, 0.3472, 0.3476, 0.3474, 0.3476, 0.3475, 3.8049, 3.8047, 3.8041, 3.8014, 2.5167, 0.8854, 0.8852, 0.8849, 0.8849, 0.8849, 0.8849, 0.8849, 0.8849, 0.8849, 0.8849, 0.8848, 0.8848, 0.8848, 0.8848, 0.8847, 0.8847, 0.8847, 0.8847, 0.8847, 0.8847, 0.8847, 0.8847, 0.8847, 0.8847, 0.8847, 0.8847, 0.8847, 0.8846, 0.8846, 0.8847, 0.8846, 0.8845, 0.8846, 0.8847, 4.3495, 4.3461, 4.3427, 4.2794, 0.8583, 0.8574, 0.8573, 0.8571, 0.857, 0.857, 0.857, 0.8569, 0.8569, 0.8569, 0.8569, 0.8569, 0.8569, 0.8569, 0.8569, 0.8569, 0.8569, 0.8568, 0.8568, 0.8568, 0.8567, 0.8567, 0.8567, 0.8567, 0.8567, 0.8567, 0.8566, 0.8565, 0.8567, 0.8564, 0.8564, 4.4251, 4.4251, 4.4122, 0.9391, 0.9387, 0.9387, 0.9387, 0.9386, 0.9386, 0.9386, 0.9386, 0.9386, 0.9385, 0.9385, 0.9385, 0.9385, 0.9384, 0.9384, 0.9384, 0.9384, 0.9384, 0.9384, 0.9384, 0.9384, 0.9384, 0.9384, 0.9384, 0.9384, 0.9384, 0.9384, 0.9384, 0.9383, 0.9383, 0.9383, 0.9383, 0.9383, 0.9377, 0.9383, 0.9382, 0.9383, 0.9382, 0.9382, 4.5466, 4.5465, 4.5391, 1.1317, 1.1316, 1.1313, 1.1312, 1.1312, 1.1312, 1.1312, 1.1312, 1.1312, 1.1312, 1.1311, 1.1311, 1.1311, 1.1311, 1.1311, 1.1311, 1.1311, 1.1311, 1.1311, 1.1311, 1.1311, 1.1311, 1.1311, 1.1311, 1.1311, 1.1311, 1.131, 1.131, 1.131, 1.131, 1.1309, 1.1307, 1.1308, 1.1307, 1.1308, 4.6611, 4.6591, 0.9969, 0.9969, 0.9969, 0.9969, 0.9969, 0.9969, 0.9969, 0.9969, 0.9969, 0.9969, 0.9969, 0.9969, 0.9969, 0.9969, 0.9969, 0.9969, 0.9969, 0.9969, 0.9969, 0.9969, 0.9969, 0.9969, 0.9969, 0.9969, 0.9968, 0.9968, 0.9968, 0.9968, 0.9968, 0.9968, 0.9968, 0.9966, 0.9966, 0.9965, 0.9968, 0.9963, 0.9966, 0.9963]}, \"token.table\": {\"Topic\": [15, 10, 16, 8, 12, 8, 10, 4, 12, 1, 13, 4, 10, 1, 4, 1, 5, 1, 13, 4, 9, 7, 10, 1, 1, 11, 7, 5, 16, 13, 5, 12, 19, 4, 5, 16, 9, 17, 14, 10, 11, 15, 14, 2, 5, 20, 8, 7, 10, 14, 4, 12, 11, 13, 20, 9, 17, 4, 7, 7, 10, 3, 9, 14, 1, 4, 4, 8, 9, 1, 3, 5, 14, 6, 13, 12, 8, 19, 12, 1, 11, 11, 14, 9, 1, 12, 13, 18, 5, 12, 1, 19, 10, 11, 7, 16, 11, 8, 12, 6, 16, 3, 8, 18, 5, 4, 17, 17, 18, 5, 8, 12, 1, 12, 2, 11, 6, 8, 13, 12, 2, 4, 2, 4], \"Freq\": [0.9983565728262402, 0.9978091297786665, 0.3474326640946822, 0.9976002159528491, 0.9904744465651442, 0.9941532079099653, 0.9992946417594272, 0.9946352560731808, 0.9883808405656415, 0.998618739322088, 0.9995355077568957, 0.9995520954229293, 0.998694931415804, 0.9975577328369322, 0.9981663381083722, 0.992049849504851, 0.9992783360524681, 0.9983057994887736, 0.9978323691898412, 0.993430331095656, 0.9990899183602405, 0.997723601690874, 0.9935092362713512, 0.9981930368335723, 0.999485071558978, 0.9907023354690766, 0.9834852015294328, 0.9923103377997607, 0.9939030912715381, 0.9955929149764097, 0.9985913965582238, 0.9975131691477735, 0.9862753087646224, 0.995225267331607, 0.9984900976975793, 0.9966590203396078, 0.9486174636661605, 0.9949428564967846, 0.9899675160333984, 0.9977709173280408, 0.9960151184611846, 0.9995883993609027, 0.9976721113837896, 0.9990967721583508, 0.9991407409958231, 0.9966548662562228, 0.9976862734810347, 0.9995699588384326, 0.998439939249323, 0.9988173393338666, 0.992652009837597, 0.9978633616303734, 0.9987586876765929, 0.9963969558562714, 0.9938761300777877, 0.990432036465897, 0.9980199432005135, 0.9995332769823554, 0.9992899541042427, 0.9963903148151608, 0.9975906627537844, 0.9985590407984754, 0.9993129467203503, 0.9992058446854732, 0.9766666569044956, 0.9989035853475378, 0.9996746262168362, 0.9968728708478032, 0.9920502699021476, 0.9925857765711369, 0.9998879064971748, 0.979654153672755, 0.9959989429700831, 0.9987789822805055, 0.9849792745595914, 0.9973529403280789, 0.9914341356949861, 0.9932533987947088, 0.9258345891847527, 0.9996284619672862, 0.999053806494817, 0.9990397030435193, 0.9981420092828037, 0.999466886761664, 0.999712836904605, 0.9749564788868754, 0.9980995994420095, 0.996055384369787, 0.9986246599719085, 0.9810030522607052, 0.9746600909016164, 0.9945368776177385, 0.997563949253123, 0.9964395039501953, 0.9967362696487394, 0.9973939905131032, 0.997493568926986, 0.9980584450615159, 0.9966709306441736, 0.9988876638165596, 0.9977800741416716, 0.9812417331363655, 0.9977112921103656, 0.9962570601788815, 0.9982527277628993, 0.9916937714181112, 0.9900076811491898, 0.9300355653434882, 0.9853211505217269, 0.9986828412779148, 0.9996201681374017, 0.9986451961067375, 0.9993711916649417, 0.952490730348607, 0.999483540158705, 0.9926220467939794, 0.9997563141376901, 0.9940952523195296, 0.9964488760417586, 0.9991868816821313, 0.9995262416861903, 0.9937750119740981, 0.999851394616956, 0.9857909566538454], \"Term\": [\"act\", \"age\", \"album\", \"also\", \"annual\", \"appear\", \"area\", \"artist\", \"band\", \"base\", \"become\", \"begin\", \"believe\", \"book\", \"bring\", \"career\", \"cause\", \"century\", \"change\", \"child\", \"city\", \"company\", \"competition\", \"control\", \"create\", \"criticize\", \"cut\", \"deal\", \"decade\", \"declare\", \"describe\", \"discover\", \"element\", \"enter\", \"event\", \"famous\", \"father\", \"feature\", \"female\", \"fight\", \"film\", \"first\", \"follow\", \"get\", \"give\", \"go\", \"good\", \"group\", \"grow\", \"help\", \"hit\", \"home\", \"include\", \"industry\", \"issue\", \"job\", \"kill\", \"know\", \"large\", \"later\", \"leader\", \"leave\", \"locate\", \"long\", \"magazine\", \"major\", \"make\", \"man\", \"manage\", \"management\", \"many\", \"marry\", \"meet\", \"member\", \"mother\", \"move\", \"movie\", \"music\", \"musical\", \"name\", \"new\", \"occur\", \"old\", \"part\", \"people\", \"performance\", \"person\", \"place\", \"popular\", \"previous\", \"race\", \"raise\", \"receive\", \"recognize\", \"record\", \"release\", \"remove\", \"role\", \"sale\", \"school\", \"second\", \"sell\", \"set\", \"show\", \"sign\", \"single\", \"song\", \"sound\", \"star\", \"start\", \"state\", \"support\", \"take\", \"teacher\", \"time\", \"top\", \"type\", \"win\", \"woman\", \"work\", \"world\", \"worldwide\", \"year\", \"young\"]}, \"R\": 30, \"lambda.step\": 0.01, \"plot.opts\": {\"xlab\": \"PC1\", \"ylab\": \"PC2\"}, \"topic.order\": [14, 16, 9, 2, 15, 11, 13, 20, 18, 5, 1, 8, 4, 6, 3, 12, 19, 10, 7, 17]};\n",
       "\n",
       "function LDAvis_load_lib(url, callback){\n",
       "  var s = document.createElement('script');\n",
       "  s.src = url;\n",
       "  s.async = true;\n",
       "  s.onreadystatechange = s.onload = callback;\n",
       "  s.onerror = function(){console.warn(\"failed to load library \" + url);};\n",
       "  document.getElementsByTagName(\"head\")[0].appendChild(s);\n",
       "}\n",
       "\n",
       "if(typeof(LDAvis) !== \"undefined\"){\n",
       "   // already loaded: just create the visualization\n",
       "   !function(LDAvis){\n",
       "       new LDAvis(\"#\" + \"ldavis_el193622662129904165590817293\", ldavis_el193622662129904165590817293_data);\n",
       "   }(LDAvis);\n",
       "}else if(typeof define === \"function\" && define.amd){\n",
       "   // require.js is available: use it to load d3/LDAvis\n",
       "   require.config({paths: {d3: \"https://d3js.org/d3.v5\"}});\n",
       "   require([\"d3\"], function(d3){\n",
       "      window.d3 = d3;\n",
       "      LDAvis_load_lib(\"https://cdn.jsdelivr.net/gh/bmabey/pyLDAvis@3.3.1/pyLDAvis/js/ldavis.v3.0.0.js\", function(){\n",
       "        new LDAvis(\"#\" + \"ldavis_el193622662129904165590817293\", ldavis_el193622662129904165590817293_data);\n",
       "      });\n",
       "    });\n",
       "}else{\n",
       "    // require.js not available: dynamically load d3 & LDAvis\n",
       "    LDAvis_load_lib(\"https://d3js.org/d3.v5.js\", function(){\n",
       "         LDAvis_load_lib(\"https://cdn.jsdelivr.net/gh/bmabey/pyLDAvis@3.3.1/pyLDAvis/js/ldavis.v3.0.0.js\", function(){\n",
       "                 new LDAvis(\"#\" + \"ldavis_el193622662129904165590817293\", ldavis_el193622662129904165590817293_data);\n",
       "            })\n",
       "         });\n",
       "}\n",
       "</script>"
      ],
      "text/plain": [
       "PreparedData(topic_coordinates=              x         y  topics  cluster       Freq\n",
       "topic                                                \n",
       "13     0.251465  0.314372       1        1  11.307137\n",
       "15     0.185782 -0.042470       2        1  10.792841\n",
       "8      0.232138 -0.289592       3        1   9.350827\n",
       "1      0.108954 -0.010121       4        1   8.579330\n",
       "14     0.006062  0.000016       5        1   6.203422\n",
       "10     0.061806 -0.003954       6        1   6.035599\n",
       "12    -0.006636  0.000644       7        1   5.322671\n",
       "19     0.004152  0.000116       8        1   5.203082\n",
       "17    -0.009071  0.000756       9        1   4.919596\n",
       "4     -0.012393  0.000908      10        1   4.780686\n",
       "0     -0.057280  0.002513      11        1   4.532837\n",
       "7     -0.043486  0.002097      12        1   4.314211\n",
       "3     -0.051921  0.002357      13        1   4.268586\n",
       "5     -0.051331  0.002339      14        1   3.988866\n",
       "2     -0.064673  0.002707      15        1   3.702134\n",
       "11    -0.108373  0.003463      16        1   2.220799\n",
       "18    -0.107213  0.003457      17        1   1.288411\n",
       "9     -0.110313  0.003468      18        1   1.193077\n",
       "6     -0.115519  0.003456      19        1   1.053712\n",
       "16    -0.112148  0.003468      20        1   0.942176, topic_info=            Term          Freq         Total Category  logprob  loglift\n",
       "30          many  40627.000000  40627.000000  Default  30.0000  30.0000\n",
       "82          year  28548.000000  28548.000000  Default  29.0000  29.0000\n",
       "125         type  19224.000000  19224.000000  Default  28.0000  28.0000\n",
       "25         first  10540.000000  10540.000000  Default  27.0000  27.0000\n",
       "12         state  11311.000000  11311.000000  Default  26.0000  26.0000\n",
       "...          ...           ...           ...      ...      ...      ...\n",
       "1118      hunter      0.112604      4.412186  Topic20 -10.7043   0.9965\n",
       "2849   christian      0.112600      4.410575  Topic20 -10.7043   0.9968\n",
       "27303  kathmandu      0.112605      4.412944  Topic20 -10.7043   0.9963\n",
       "4157     hunting      0.112602      4.411606  Topic20 -10.7043   0.9966\n",
       "2512      police      0.112605      4.413233  Topic20 -10.7043   0.9963\n",
       "\n",
       "[831 rows x 6 columns], token_table=      Topic      Freq       Term\n",
       "term                            \n",
       "56       15  0.998357        act\n",
       "126      10  0.997809        age\n",
       "16       16  0.347433      album\n",
       "85        8  0.997600       also\n",
       "167      12  0.990474     annual\n",
       "...     ...       ...        ...\n",
       "53       12  0.999187       work\n",
       "81        2  0.999526      world\n",
       "20        4  0.993775  worldwide\n",
       "82        2  0.999851       year\n",
       "89        4  0.985791      young\n",
       "\n",
       "[124 rows x 3 columns], R=30, lambda_step=0.01, plot_opts={'xlab': 'PC1', 'ylab': 'PC2'}, topic_order=[14, 16, 9, 2, 15, 11, 13, 20, 18, 5, 1, 8, 4, 6, 3, 12, 19, 10, 7, 17])"
      ]
     },
     "execution_count": 15,
     "metadata": {},
     "output_type": "execute_result"
    }
   ],
   "source": [
    "# Visualize the topics\n",
    "pyLDAvis.enable_notebook()\n",
    "vis = pyLDAvis.gensim_models.prepare(lda_model, corpus, id2word)\n",
    "vis"
   ]
  },
  {
   "cell_type": "code",
   "execution_count": null,
   "id": "8d674eef-bf4c-470a-858d-105c0efde6e2",
   "metadata": {},
   "outputs": [],
   "source": []
  }
 ],
 "metadata": {
  "kernelspec": {
   "display_name": "Datasets",
   "language": "python",
   "name": "datasets"
  },
  "language_info": {
   "codemirror_mode": {
    "name": "ipython",
    "version": 3
   },
   "file_extension": ".py",
   "mimetype": "text/x-python",
   "name": "python",
   "nbconvert_exporter": "python",
   "pygments_lexer": "ipython3",
   "version": "3.8.3"
  }
 },
 "nbformat": 4,
 "nbformat_minor": 5
}
