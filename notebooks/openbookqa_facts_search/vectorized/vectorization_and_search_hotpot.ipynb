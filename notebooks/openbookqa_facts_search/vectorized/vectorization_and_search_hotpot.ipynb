{
 "cells": [
  {
   "cell_type": "code",
   "execution_count": 16,
   "outputs": [],
   "source": [
    "import pickle\n",
    "import numpy as np\n",
    "import time\n",
    "import faiss\n",
    "import json\n",
    "import random\n",
    "import sys\n",
    "\n",
    "import torch.cuda\n",
    "from sentence_transformers import SentenceTransformer\n",
    "from sklearn.feature_extraction.text import TfidfVectorizer\n",
    "from sklearn.metrics.pairwise import cosine_similarity"
   ],
   "metadata": {
    "collapsed": false,
    "pycharm": {
     "name": "#%%\n"
    }
   }
  },
  {
   "cell_type": "code",
   "execution_count": 17,
   "outputs": [
    {
     "ename": "KeyError",
     "evalue": "'question'",
     "output_type": "error",
     "traceback": [
      "\u001B[1;31m---------------------------------------------------------------------------\u001B[0m",
      "\u001B[1;31mKeyError\u001B[0m                                  Traceback (most recent call last)",
      "Cell \u001B[1;32mIn [17], line 9\u001B[0m\n\u001B[0;32m      7\u001B[0m \u001B[38;5;28;01mwith\u001B[39;00m \u001B[38;5;28mopen\u001B[39m(facts_path) \u001B[38;5;28;01mas\u001B[39;00m f:\n\u001B[0;32m      8\u001B[0m     fact_sets \u001B[38;5;241m=\u001B[39m [json\u001B[38;5;241m.\u001B[39mloads(line) \u001B[38;5;28;01mfor\u001B[39;00m line \u001B[38;5;129;01min\u001B[39;00m f\u001B[38;5;241m.\u001B[39mreadlines()]\n\u001B[1;32m----> 9\u001B[0m facts \u001B[38;5;241m=\u001B[39m [fact_set[\u001B[38;5;124m\"\u001B[39m\u001B[38;5;124mquestion\u001B[39m\u001B[38;5;124m\"\u001B[39m][\u001B[38;5;124m\"\u001B[39m\u001B[38;5;124mstem\u001B[39m\u001B[38;5;124m\"\u001B[39m] \u001B[38;5;28;01mfor\u001B[39;00m fact_set \u001B[38;5;129;01min\u001B[39;00m fact_sets]\n",
      "Cell \u001B[1;32mIn [17], line 9\u001B[0m, in \u001B[0;36m<listcomp>\u001B[1;34m(.0)\u001B[0m\n\u001B[0;32m      7\u001B[0m \u001B[38;5;28;01mwith\u001B[39;00m \u001B[38;5;28mopen\u001B[39m(facts_path) \u001B[38;5;28;01mas\u001B[39;00m f:\n\u001B[0;32m      8\u001B[0m     fact_sets \u001B[38;5;241m=\u001B[39m [json\u001B[38;5;241m.\u001B[39mloads(line) \u001B[38;5;28;01mfor\u001B[39;00m line \u001B[38;5;129;01min\u001B[39;00m f\u001B[38;5;241m.\u001B[39mreadlines()]\n\u001B[1;32m----> 9\u001B[0m facts \u001B[38;5;241m=\u001B[39m [\u001B[43mfact_set\u001B[49m\u001B[43m[\u001B[49m\u001B[38;5;124;43m\"\u001B[39;49m\u001B[38;5;124;43mquestion\u001B[39;49m\u001B[38;5;124;43m\"\u001B[39;49m\u001B[43m]\u001B[49m[\u001B[38;5;124m\"\u001B[39m\u001B[38;5;124mstem\u001B[39m\u001B[38;5;124m\"\u001B[39m] \u001B[38;5;28;01mfor\u001B[39;00m fact_set \u001B[38;5;129;01min\u001B[39;00m fact_sets]\n",
      "\u001B[1;31mKeyError\u001B[0m: 'question'"
     ]
    }
   ],
   "source": [
    "facts_path = \"corpus.jsonl\"\n",
    "with open(facts_path) as f:\n",
    "    fact_sets = [json.loads(line) for line in f.readlines()]\n",
    "facts = [fact_set[\"text\"] for fact_set in fact_sets]\n",
    "\n",
    "# facts_path = \"queries.jsonl\"\n",
    "# with open(facts_path) as f:\n",
    "#     fact_sets = [json.loads(line) for line in f.readlines()]\n",
    "# facts = [fact_set[\"text\"] for fact_set in fact_sets]"
   ],
   "metadata": {
    "collapsed": false,
    "pycharm": {
     "name": "#%%\n"
    }
   }
  },
  {
   "cell_type": "code",
   "execution_count": 3,
   "outputs": [
    {
     "data": {
      "text/plain": "97852"
     },
     "execution_count": 3,
     "metadata": {},
     "output_type": "execute_result"
    }
   ],
   "source": [
    "len(facts)"
   ],
   "metadata": {
    "collapsed": false,
    "pycharm": {
     "name": "#%%\n"
    }
   }
  },
  {
   "cell_type": "code",
   "execution_count": 4,
   "outputs": [
    {
     "data": {
      "text/plain": "74"
     },
     "execution_count": 4,
     "metadata": {},
     "output_type": "execute_result"
    }
   ],
   "source": [
    "len(facts[0])"
   ],
   "metadata": {
    "collapsed": false,
    "pycharm": {
     "name": "#%%\n"
    }
   }
  },
  {
   "cell_type": "code",
   "execution_count": 5,
   "outputs": [
    {
     "data": {
      "text/plain": "800984"
     },
     "execution_count": 5,
     "metadata": {},
     "output_type": "execute_result"
    }
   ],
   "source": [
    "sys.getsizeof(facts)"
   ],
   "metadata": {
    "collapsed": false,
    "pycharm": {
     "name": "#%%\n"
    }
   }
  },
  {
   "cell_type": "code",
   "execution_count": 6,
   "outputs": [],
   "source": [
    "model_name = 'multi-qa-MiniLM-L6-cos-v1'\n",
    "model = SentenceTransformer(model_name, device='cuda')"
   ],
   "metadata": {
    "collapsed": false,
    "pycharm": {
     "name": "#%%\n"
    }
   }
  },
  {
   "cell_type": "code",
   "execution_count": 7,
   "outputs": [
    {
     "data": {
      "text/plain": "Batches:   0%|          | 0/3058 [00:00<?, ?it/s]",
      "application/vnd.jupyter.widget-view+json": {
       "version_major": 2,
       "version_minor": 0,
       "model_id": "8084e099e5b344dfb6ab04adcde194f7"
      }
     },
     "metadata": {},
     "output_type": "display_data"
    }
   ],
   "source": [
    "embeddings = model.encode(facts, device='cuda', show_progress_bar=True)"
   ],
   "metadata": {
    "collapsed": false,
    "pycharm": {
     "name": "#%%\n"
    }
   }
  },
  {
   "cell_type": "code",
   "execution_count": 8,
   "outputs": [],
   "source": [
    "with open(f'emb_hotpotquestions_{model_name}.pickle', 'wb') as f:\n",
    "    pickle.dump(embeddings, f, protocol=pickle.HIGHEST_PROTOCOL)"
   ],
   "metadata": {
    "collapsed": false,
    "pycharm": {
     "name": "#%%\n"
    }
   }
  },
  {
   "cell_type": "code",
   "execution_count": 28,
   "outputs": [
    {
     "name": "stdout",
     "output_type": "stream",
     "text": [
      "8237 0\n",
      "1377 0\n"
     ]
    }
   ],
   "source": [
    "max_l, min_l = 0, 999999999999\n",
    "max_words, min_words = 0, 999999999999\n",
    "for fact in facts:\n",
    "    max_l, min_l = max(max_l, len(fact)), min(min_l, len(fact))\n",
    "    c = fact.count(\" \")\n",
    "    max_words, min_words = max(max_words, c), min(min_words, c)\n",
    "print(max_l, min_l)\n",
    "print(max_words, min_words)"
   ],
   "metadata": {
    "collapsed": false,
    "pycharm": {
     "name": "#%%\n"
    }
   }
  },
  {
   "cell_type": "code",
   "execution_count": null,
   "outputs": [],
   "source": [],
   "metadata": {
    "collapsed": false,
    "pycharm": {
     "name": "#%%\n"
    }
   }
  },
  {
   "cell_type": "code",
   "execution_count": 9,
   "outputs": [
    {
     "data": {
      "text/plain": "48"
     },
     "execution_count": 9,
     "metadata": {},
     "output_type": "execute_result"
    }
   ],
   "source": [
    "index_flatip = faiss.IndexFlatIP(embeddings.shape[1])\n",
    "index_flatip.add(embeddings)\n",
    "sys.getsizeof(index_flatip)"
   ],
   "metadata": {
    "collapsed": false,
    "pycharm": {
     "name": "#%%\n"
    }
   }
  },
  {
   "cell_type": "code",
   "execution_count": 11,
   "outputs": [],
   "source": [
    "quant = faiss.IndexFlatIP(embeddings.shape[1])\n",
    "index_ivfflat = faiss.IndexIVFFlat(quant, embeddings.shape[1], 100)\n",
    "index_ivfflat.train(embeddings)\n",
    "index_ivfflat.add(embeddings)"
   ],
   "metadata": {
    "collapsed": false,
    "pycharm": {
     "name": "#%%\n"
    }
   }
  },
  {
   "cell_type": "code",
   "execution_count": null,
   "outputs": [],
   "source": [],
   "metadata": {
    "collapsed": false,
    "pycharm": {
     "name": "#%%\n"
    }
   }
  },
  {
   "cell_type": "code",
   "execution_count": 14,
   "outputs": [],
   "source": [
    "with open(f'index_ivfflat_hotpotquestions_{model_name}.pickle', 'wb') as f:\n",
    "    pickle.dump(index_ivfflat, f, protocol=pickle.HIGHEST_PROTOCOL)"
   ],
   "metadata": {
    "collapsed": false,
    "pycharm": {
     "name": "#%%\n"
    }
   }
  },
  {
   "cell_type": "code",
   "execution_count": 11,
   "outputs": [],
   "source": [
    "with open(f'index_flatip_hotpot_{model_name}.pickle', 'rb') as f:\n",
    "    index_flatip = pickle.load(f)\n",
    "# with open(f'index_ivfpq_hotpot_{model_name}.pickle', 'rb') as f:\n",
    "#     index_ivfpq = pickle.load(f)\n",
    "with open(f'index_ivfflat_hotpot_{model_name}.pickle', 'rb') as f:\n",
    "    index_ivfflat = pickle.load(f)"
   ],
   "metadata": {
    "collapsed": false,
    "pycharm": {
     "name": "#%%\n"
    }
   }
  },
  {
   "cell_type": "code",
   "execution_count": 12,
   "outputs": [
    {
     "data": {
      "text/plain": "48"
     },
     "execution_count": 12,
     "metadata": {},
     "output_type": "execute_result"
    }
   ],
   "source": [
    "sys.getsizeof(index_ivfpq)"
   ],
   "metadata": {
    "collapsed": false,
    "pycharm": {
     "name": "#%%\n"
    }
   }
  },
  {
   "cell_type": "code",
   "execution_count": null,
   "outputs": [],
   "source": [],
   "metadata": {
    "collapsed": false,
    "pycharm": {
     "name": "#%%\n"
    }
   }
  },
  {
   "cell_type": "code",
   "execution_count": 22,
   "outputs": [
    {
     "name": "stdout",
     "output_type": "stream",
     "text": [
      "- The Dani–Kwerba languages were a hypothetical language family proposed by Arthur Capell in 1962 and adopted by Wurm as part of his Trans–New Guinea (TNG) phylum. Malcolm Ross reassigned the Dani languages to a West Trans–New Guinea linkage and the Kwerba languages to his Tor–Kwerba family, outside of TNG altogether.\n",
      "- Derek Bickerton (born March 25, 1926) is a linguist and Professor Emeritus at the University of Hawaii, Manoa. Based on his work in creole languages in Guyana and Hawaii, he has proposed that the features of creole languages provide powerful insights into the development of language both by individuals and as a feature of the human species. He is the originator and main proponent of the language bioprogram hypothesis according to which the similarity of creoles is due to their being formed from a prior pidgin by children who all share a universal human innate grammar capacity.\n",
      "- The Chickasaw language (\"Chikashshanompa’\", IPA [tʃikaʃːanompaʔ] ) is a Native American language of the Muskogean family. It is agglutinative and follows the word order pattern of subject–object–verb (SOV). The language is closely related to, though perhaps not entirely mutually intelligible with, Choctaw. It is spoken by the Chickasaw tribe, now residing in Southeast Oklahoma, centered on Ada.\n",
      "- Ayọ̀ Bámgbósé (born January 27, 1932) is an academic linguist, the first professor of Linguistics in Nigeria. He has made contributions to education and linguistics, achieving recognition in form of honours and election to offices in professional bodies.\n",
      "- Floyd Glenn Lounsbury (April 25, 1914 – May 14, 1998) was an American linguist, anthropologist and Mayanist scholar and epigrapher, best known for his work on linguistic and cultural systems of a variety of North and South American languages. Equally important were his contributions to understanding the hieroglyphs, culture and history of the Maya civilization of pre-Columbian Mesoamerica.\n",
      "----------------------------------------------------------------------------------------------------\n",
      "- There are two languages spoken by the Seminole tribe of the southeastern United States, both in the Muskogean language family:\n",
      "- Mobilian Jargon (also Mobilian trade language, Mobilian Trade Jargon, Chickasaw–Choctaw trade language, Yamá) was a pidgin used as a lingua franca among Native American groups living along the Gulf of Mexico around the time of European settlement of the region. It was the main language among Indian tribes in this area, mainly Louisiana. There is evidence indicating its existence as early as the late seventeenth to early eighteenth century. The Indian groups that are said to have used it were the Alabama, Apalachee, Biloxi, Chacato, Pakana, Pascagoula, Taensa, Tunica, Caddo, Chickasaw, Choctaw, Chitimacha, Natchez, and Ofo. The name is thought to refer to the Mobile Indians of the central Gulf Coast, but did not originate from this group; Mobilian Jargon is linguistically and grammatically different from the language traditionally spoken by the Mobile Indians.\n",
      "- The Dani–Kwerba languages were a hypothetical language family proposed by Arthur Capell in 1962 and adopted by Wurm as part of his Trans–New Guinea (TNG) phylum. Malcolm Ross reassigned the Dani languages to a West Trans–New Guinea linkage and the Kwerba languages to his Tor–Kwerba family, outside of TNG altogether.\n",
      "- Southern Athabaskan (also Apachean) is a subfamily of Athabaskan languages spoken primarily in the Southwestern United States (including Arizona, New Mexico, Colorado, Utah) and the Mexican state of Sonora, with two outliers in Oklahoma and Texas. Those languages are spoken by various groups of Apache and Navajo peoples. In the northern versions, Athabaskan is spoken by many indigenous groups of peoples in Alaska and Canada. It represents the third major wave of ancient migration from Asia .\n",
      "- The Aja language is a Gbe language of the Niger–Congo language spoken by the Aja people; and it is closely related to other Gbe languages such as Ewe, Mina, Fon, and Phla Phera.\n",
      "----------------------------------------------------------------------------------------------------\n",
      "- The Dani–Kwerba languages were a hypothetical language family proposed by Arthur Capell in 1962 and adopted by Wurm as part of his Trans–New Guinea (TNG) phylum. Malcolm Ross reassigned the Dani languages to a West Trans–New Guinea linkage and the Kwerba languages to his Tor–Kwerba family, outside of TNG altogether.\n",
      "- The Chickasaw language (\"Chikashshanompa’\", IPA [tʃikaʃːanompaʔ] ) is a Native American language of the Muskogean family. It is agglutinative and follows the word order pattern of subject–object–verb (SOV). The language is closely related to, though perhaps not entirely mutually intelligible with, Choctaw. It is spoken by the Chickasaw tribe, now residing in Southeast Oklahoma, centered on Ada.\n",
      "- The Baeggu language (also called Baegu or Mbaenggu) is spoken by the indigenous people of the North Malaita Island in the Solomon Islands. In 1999 there were 5,900 people known to speak the language. The language is largely intelligible with Baelelea, To'aba'ita, and Lau.\n",
      "- The Aja language is a Gbe language of the Niger–Congo language spoken by the Aja people; and it is closely related to other Gbe languages such as Ewe, Mina, Fon, and Phla Phera.\n",
      "- An Australian Grammar, comprehending the principles and natural rules of the language, as spoken by the aborigines, in the vicinity of Hunter's River, Lake Macquarie, &c. New South Wales was a description of what is now referred to as the Awabakal language written by Lancelot Edward Threlkeld and published in Sydney in 1834.\n"
     ]
    }
   ],
   "source": [
    "q1 = \"Which magazine was started first Arthur's Magazine or First for Women?\"\n",
    "q2 = \"Who killed the Tsar of Russia?\"\n",
    "q3 = \"What language family is the language of the tribe of the man who instructed Jeff Ball in?\"\n",
    "question = q3\n",
    "k = 3\n",
    "\n",
    "D, I = index_flatip.search(model.encode([question]), k)\n",
    "result_facts = [facts[i] for i in I[0]]\n",
    "for fact in result_facts:\n",
    "    print('- ' + fact)\n",
    "print(\"-\" * 100)\n",
    "\n",
    "# D, I = index_ivfpq.search(model.encode([question]), k)\n",
    "# result_facts = [facts[i] for i in I[0]]\n",
    "# for fact in result_facts:\n",
    "#     print('- ' + fact)\n",
    "# print(\"-\" * 100)\n",
    "\n",
    "D, I = index_ivfflat.search(model.encode([question]), k)\n",
    "result_facts = [facts[i] for i in I[0]]\n",
    "for fact in result_facts:\n",
    "    print('- ' + fact)"
   ],
   "metadata": {
    "collapsed": false,
    "pycharm": {
     "name": "#%%\n"
    }
   }
  },
  {
   "cell_type": "code",
   "execution_count": null,
   "outputs": [],
   "source": [],
   "metadata": {
    "collapsed": false,
    "pycharm": {
     "name": "#%%\n"
    }
   }
  }
 ],
 "metadata": {
  "kernelspec": {
   "display_name": "Python 3",
   "language": "python",
   "name": "python3"
  },
  "language_info": {
   "codemirror_mode": {
    "name": "ipython",
    "version": 2
   },
   "file_extension": ".py",
   "mimetype": "text/x-python",
   "name": "python",
   "nbconvert_exporter": "python",
   "pygments_lexer": "ipython2",
   "version": "2.7.6"
  }
 },
 "nbformat": 4,
 "nbformat_minor": 0
}