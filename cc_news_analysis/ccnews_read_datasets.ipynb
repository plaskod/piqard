{
 "cells": [
  {
   "cell_type": "code",
   "execution_count": 1,
   "outputs": [],
   "source": [
    "import pandas as pd\n",
    "import datasets\n",
    "import time\n",
    "import matplotlib.pyplot as plt\n",
    "import pyarrow as pa"
   ],
   "metadata": {
    "collapsed": false,
    "pycharm": {
     "name": "#%%\n"
    }
   }
  },
  {
   "cell_type": "code",
   "execution_count": 2,
   "outputs": [
    {
     "name": "stdout",
     "output_type": "stream",
     "text": [
      "118.44078397750854\n"
     ]
    }
   ],
   "source": [
    "start = time.time()\n",
    "cc_news = datasets.load_from_disk('cc_news')\n",
    "print(time.time() - start)"
   ],
   "metadata": {
    "collapsed": false,
    "pycharm": {
     "name": "#%%\n"
    }
   }
  },
  {
   "cell_type": "code",
   "execution_count": 6,
   "outputs": [
    {
     "data": {
      "text/plain": "Dataset({\n    features: ['title', 'text', 'domain', 'date', 'description', 'url', 'image_url', 'time'],\n    num_rows: 81814619\n})"
     },
     "execution_count": 6,
     "metadata": {},
     "output_type": "execute_result"
    }
   ],
   "source": [
    "n = cc_news.num_rows\n",
    "cc_news"
   ],
   "metadata": {
    "collapsed": false,
    "pycharm": {
     "name": "#%%\n"
    }
   }
  },
  {
   "cell_type": "code",
   "execution_count": null,
   "outputs": [],
   "source": [],
   "metadata": {
    "collapsed": false,
    "pycharm": {
     "name": "#%%\n"
    }
   }
  },
  {
   "cell_type": "markdown",
   "source": [
    "## Good examples"
   ],
   "metadata": {
    "collapsed": false,
    "pycharm": {
     "name": "#%% md\n"
    }
   }
  },
  {
   "cell_type": "code",
   "execution_count": 1,
   "outputs": [
    {
     "ename": "NameError",
     "evalue": "name 'cc_news' is not defined",
     "output_type": "error",
     "traceback": [
      "\u001B[1;31m---------------------------------------------------------------------------\u001B[0m",
      "\u001B[1;31mNameError\u001B[0m                                 Traceback (most recent call last)",
      "Cell \u001B[1;32mIn [1], line 1\u001B[0m\n\u001B[1;32m----> 1\u001B[0m \u001B[43mcc_news\u001B[49m[\u001B[38;5;241m154039\u001B[39m]\n",
      "\u001B[1;31mNameError\u001B[0m: name 'cc_news' is not defined"
     ]
    }
   ],
   "source": [
    "cc_news[154039]"
   ],
   "metadata": {
    "collapsed": false,
    "pycharm": {
     "name": "#%%\n"
    }
   }
  },
  {
   "cell_type": "code",
   "execution_count": 475,
   "outputs": [
    {
     "data": {
      "text/plain": "{'title': 'Renault to propose joint holding firm',\n 'text': 'Renault to propose joint holding firm\\nTOKYO: Renault will propose a plan to create a joint holding company that would give the French carmaker and Japanese partner Nissan equal footing, a person with knowledge of the issue told Reuters.Under the proposal, both firms would nominate an equal number of directors to the new company, which would be headed by Renault Chairman Jean-Dominique Senard, according to the person, who spoke on condition of anonymity as the plan is not public.\\nThe proposal would aim for further integration between the two automakers, the source said.\\nThe proposal was first reported on Friday by the Nikkei business daily, which said that Renault expects to soon put a plan to Nissan under which ordinary shares in both automakers would be transferred to the new company on a balanced basis. That would effectively dilute the French government’s Renault stake to about 7-8 percent from 15 percent.\\nThe newly-created company would be headquartered in a third country, such as Singapore, the Nikkei and other Japanese media reported, without citing sources.\\nThe proposal comes after the French automaker had approached Nissan with a merger idea ahead of an alliance operational meeting earlier this month, but Nissan CEO Hiroto Saikawa declined to discuss the issue with Senard, according to the Reuters source.\\nHe added that the proposal could be modified before it was presented to Nissan. The Financial Times newspaper reported that Nissan and the Japanese government refused to engage in merger talks with Renault and that Saikawa had refused to meet SMBC Nikko bankers appointed by the French carmaker to work on a deal.',\n 'domain': 'www.thenews.com.pk',\n 'date': '2019-04-28',\n 'description': 'TOKYO: Renault will propose a plan to create a joint holding company that would give the French carmaker and Japanese partner Nissan equal footing, a person with knowledge of the issue told...',\n 'url': 'https://www.thenews.com.pk/print/463903-renault-to-propose-joint-holding-firm',\n 'image_url': 'https://static.thenews.com.pk/front/img/no-img-fb.jpg',\n 'time': '00:00:00'}"
     },
     "execution_count": 475,
     "metadata": {},
     "output_type": "execute_result"
    }
   ],
   "source": [
    "cc_news[5000253]"
   ],
   "metadata": {
    "collapsed": false,
    "pycharm": {
     "name": "#%%\n"
    }
   }
  },
  {
   "cell_type": "code",
   "execution_count": 141,
   "outputs": [
    {
     "data": {
      "text/plain": "{'title': 'Poland open to investment from China - foreign minister',\n 'text': 'By Joanna Plucinska\\nWARSAW, July 8 (Reuters) - Poland is open to investment from China, the country\\'s foreign minister said on Monday, even as relations have faltered between the two countries over the role of Chinese technology firms in 5G and state infrastructure projects.\\nA Chinese former Huawei executive was arrested in Poland in January on spying allegations. He has said he is innocent in the case.\\nAnd Polish President Andrzej Duda told Reuters last month that he was opposed to investment by Beijing in strategic infrastructure, including seaports and airports.\\nNonetheless, the minister said he welcomed investment.\\n\"We are also open to Chinese investments, especially greenfields, in the manufacturing and innovative sectors,\" said Jacek Czaputowicz, during a visit to Warsaw by the Chinese government\\'s top diplomat State Councillor Wang Yi.\\nThe meeting took place as part of the second session of the China-Poland Intergovernmental Cooperation Committee and is part of Wang\\'s week-long visit through Eastern Europe, the Chinese Foreign Ministry said in a statement.\\nWang will travel to Slovakia and Hungary later this week.\\nChina is looking to reinvigorate its Belt and Road initiative, a push to grow trade with European countries over ancient Silk Road routes, in an effort to build trust in the region and maintain economic ties.\\nWang called for Poland and China to strengthen their coordination in a number of issues, including taking greater advantage of the Silk Road transport network.\\nRail services between Poland and China have grown in recent years, but congestion is an ongoing issue as cargo shipments have increased.\\nWang also pushed for \"more fruitful\" talks as part of the 17+1 format, which is designed to build cooperation among Eastern European and Western Balkan countries to facilitate Chinese investment in the region.\\nCzaputowicz said Poland and other European countries should seek to even out trade imbalances with China.\\n\"This asymmetry, which Poland sees applies to most European Union member states, together we want to look for an agreement to balance this out,\" he said. (Reporting by Joanna Plucinsk; Writing by Joanna Plucinska and Alan Charlish; Editing by Alison Williams)',\n 'domain': 'www.dailymail.co.uk',\n 'date': '2019-07-08',\n 'description': \"By Joanna PlucinskaWARSAW, July 8 (Reuters) - Poland is open to investment from China, the country's foreign minister said on Monday, even as relations...\",\n 'url': 'https://www.dailymail.co.uk/wires/reuters/article-7224813/Poland-open-investment-China--foreign-minister.html?ns_mchannel=rss&ns_campaign=1490&ito=1490',\n 'image_url': 'https://i.dailymail.co.uk/i/pix/m_logo_636x382px.png',\n 'time': '14:49:25'}"
     },
     "execution_count": 141,
     "metadata": {},
     "output_type": "execute_result"
    }
   ],
   "source": [
    "cc_news[8024099]"
   ],
   "metadata": {
    "collapsed": false,
    "pycharm": {
     "name": "#%%\n"
    }
   }
  },
  {
   "cell_type": "code",
   "execution_count": 355,
   "outputs": [
    {
     "data": {
      "text/plain": "{'title': 'Video: Elizabeth May in solidarity with a hunger striker',\n 'text': 'Reported by Roberto Teixeira\\nFor the past 19 days, activist Kristin Henry has been participating in a hunger strike against the Site C Dam in front of BC Hydro building in downtown Vancouver. As of last night, she’s been hospitalized.\\nThis morning, Elizabeth May, the leader of the Green Party of Canada went to the site of the protest to show support for the hunger striker.\\nThe protest will continue until the activists get recognition for their demands of the provincial and federal governments.\\nHere in this video, watch May and other activists voice their concerns. The footage of Henry comes from an interview conducted by Tessa Vikander on day eight of her hunger strike:',\n 'domain': 'www.langaravoice.ca',\n 'date': '2016-03-31',\n 'description': '',\n 'url': 'http://www.langaravoice.ca/2016/04/01/video-elizabeth-may-in-solidarity-with-a-hunger-striker/',\n 'image_url': 'http://www.langaravoice.ca/wp-content/uploads/2014/09/The-Voice.jpg',\n 'time': '00:00:00'}"
     },
     "execution_count": 355,
     "metadata": {},
     "output_type": "execute_result"
    }
   ],
   "source": [
    "cc_news[1151]"
   ],
   "metadata": {
    "collapsed": false,
    "pycharm": {
     "name": "#%%\n"
    }
   }
  },
  {
   "cell_type": "markdown",
   "source": [
    "## Bad examples"
   ],
   "metadata": {
    "collapsed": false,
    "pycharm": {
     "name": "#%% md\n"
    }
   }
  },
  {
   "cell_type": "code",
   "execution_count": 356,
   "outputs": [
    {
     "data": {
      "text/plain": "{'title': 'Xi Jinping shows his love of Game of Thrones but warns reality must not mirror fantasy',\n 'text': 'Xi Jinping shows his love of Game of Thrones but warns reality must not mirror fantasy',\n 'domain': 'www.scmp.com',\n 'date': '2019-04-28',\n 'description': 'Chinese president tells foreign leaders ‘we must all make sure the world we live in does not descend into the chaotic warring seven kingdoms’.',\n 'url': 'https://www.scmp.com/news/china/politics/article/3007991/xi-jinping-shows-his-love-game-thrones-warns-reality-must-not',\n 'image_url': 'https://cdn.i-scmp.com/sites/default/files/styles/og_image_scmp_generic/public/d8/images/methode/2019/04/28/51f118a0-6969-11e9-a2c3-042d2f2c8874_image_hires_134140.jpg?itok=zKxzTf6m',\n 'time': '00:00:00'}"
     },
     "execution_count": 356,
     "metadata": {},
     "output_type": "execute_result"
    }
   ],
   "source": [
    "# popculture and gossip\n",
    "cc_news[5000160]"
   ],
   "metadata": {
    "collapsed": false,
    "pycharm": {
     "name": "#%%\n"
    }
   }
  },
  {
   "cell_type": "code",
   "execution_count": 397,
   "outputs": [
    {
     "data": {
      "text/plain": "{'title': 'RECIPE | Cioppino (fish stew) with fennel & saffron',\n 'text': 'RECIPE | Cioppino (fish stew) with fennel & saffron\\nThis wonderfully warming Italian/American stew of fish, mussels and prawns will cater for a crowd. Serve it with lots of crusty bread to mop up the delicious broth\\nThis wonderfully warming Italian/American stew of fish, mussels and prawns will cater for a crowd. Serve it with lots of crusty bread to mop up the delicious broth',\n 'domain': 'www.timeslive.co.za',\n 'date': '2019-04-28',\n 'description': 'This wonderfully warming Italian/American stew of fish, mussels and prawns will cater for a crowd. Serve it with lots of crusty bread to mop up the delicious broth',\n 'url': 'https://www.timeslive.co.za/sunday-times/lifestyle/food/2019-04-28-recipe--cioppino-fish-stew-with-fennel--saffron/',\n 'image_url': 'https://lh3.googleusercontent.com/P10wZjA9UHhRPcz9Gtw5B6LkF4uL9L7dViUhTTLlXVc-_CbEFMJLbpTNrixoECRpQwQxFhJ-I3H4H-Y-eyW3pVc=s1000',\n 'time': '00:00:00'}"
     },
     "execution_count": 397,
     "metadata": {},
     "output_type": "execute_result"
    }
   ],
   "source": [
    "# documents that are not really news - recipes, personality tests, horoscope, film reviews\n",
    "cc_news[5000173]"
   ],
   "metadata": {
    "collapsed": false,
    "pycharm": {
     "name": "#%%\n"
    }
   }
  },
  {
   "cell_type": "code",
   "execution_count": 396,
   "outputs": [
    {
     "data": {
      "text/plain": "{'title': 'Vernon pub hosts bands rocking for health care',\n 'text': 'Annual Rock For Care at Longhorn Pub features 12 bands playing for 12 hours\\nTwelve bands, 12 hours.\\nIn those 12 hours, you get to hear some of the best live music from the Okanagan and…\\nYou get to help raise money for a worthy cause.\\nThe 10th annual Rock For Care is on now (Sunday) at Vernon’s Longhorn Pub featuring fabulous live music for 12 groups who are playing an hour each until midnight.\\nWith auctions, silent and live, plus 50-50 draws, money is raised for the Vernon Jubilee Hospital Foundation.\\nAdmission is by donation.\\nThe event is put on by the group The Wheely Naughties, who perform at 6 p.m.\\nThe rest of the lineup includes:\\n12 p.m.: Mya & Sol;\\n1 p.m.: Mel & The Men;\\n2 p.m.: 54 Young;\\n3 p.m.: Typical Underground;\\n4 p.m.: The Noble Crew;\\n5 p.m.: 5 Knuckle Shuffle;\\n6 p.m.: The Wheely Naughties;\\n7 p.m.: Billy & The Haze;\\n8 p.m.: Steel Toad;\\n9 p.m.: The Keys;\\n10 p.m.: The Kokanee Cowboys;\\n11 p.m.: Flash.\\n@VernonNewsroger@vernonmorningstar.comLike us on Facebook and follow us on Twitter.',\n 'domain': 'www.bclocalnews.com',\n 'date': '2019-04-28',\n 'description': 'Annual Rock For Care at Longhorn Pub features 12 bands playing for 12 hours',\n 'url': 'https://www.bclocalnews.com/news/vernon-pub-hosts-bands-rocking-for-health-care/',\n 'image_url': 'https://www.bclocalnews.com/wp-content/uploads/2019/04/16598030_web_190501-VMS-Rock-4-Care-WEB-1024x683.jpg',\n 'time': '00:00:00'}"
     },
     "execution_count": 396,
     "metadata": {},
     "output_type": "execute_result"
    }
   ],
   "source": [
    "# local news, shock news about accidents etc\n",
    "cc_news[5000190]"
   ],
   "metadata": {
    "collapsed": false,
    "pycharm": {
     "name": "#%%\n"
    }
   }
  },
  {
   "cell_type": "code",
   "execution_count": 468,
   "outputs": [
    {
     "data": {
      "text/plain": "{'title': 'China can become one of the world’s biggest green innovators',\n 'text': 'Malaysian officials including former prime minster Najib Razak (third from left) look at a model of the proposed East Coast Rail Link in September 2017. Photo: AP',\n 'domain': 'www.scmp.com',\n 'date': '2019-04-28',\n 'description': 'Reforming trade plan could make Beijing a global environment champion.',\n 'url': 'https://www.scmp.com/business/money/article/3008027/china-can-become-one-worlds-biggest-green-innovators',\n 'image_url': 'https://cdn.i-scmp.com/sites/default/files/styles/og_image_scmp_opinion/public/d8/images/methode/2019/04/28/0684feec-69b7-11e9-a2c3-042d2f2c8874_image_hires_225202.JPG?itok=o26TP2uP',\n 'time': '00:00:00'}"
     },
     "execution_count": 468,
     "metadata": {},
     "output_type": "execute_result"
    }
   ],
   "source": [
    "# good news, but with lacking information, or an overwhelming amount of information\n",
    "cc_news[5000248]"
   ],
   "metadata": {
    "collapsed": false,
    "pycharm": {
     "name": "#%%\n"
    }
   }
  },
  {
   "cell_type": "code",
   "execution_count": null,
   "outputs": [],
   "source": [],
   "metadata": {
    "collapsed": false,
    "pycharm": {
     "name": "#%%\n"
    }
   }
  },
  {
   "cell_type": "code",
   "execution_count": null,
   "outputs": [],
   "source": [],
   "metadata": {
    "collapsed": false,
    "pycharm": {
     "name": "#%%\n"
    }
   }
  }
 ],
 "metadata": {
  "kernelspec": {
   "display_name": "Python 3",
   "language": "python",
   "name": "python3"
  },
  "language_info": {
   "codemirror_mode": {
    "name": "ipython",
    "version": 2
   },
   "file_extension": ".py",
   "mimetype": "text/x-python",
   "name": "python",
   "nbconvert_exporter": "python",
   "pygments_lexer": "ipython2",
   "version": "2.7.6"
  }
 },
 "nbformat": 4,
 "nbformat_minor": 0
}